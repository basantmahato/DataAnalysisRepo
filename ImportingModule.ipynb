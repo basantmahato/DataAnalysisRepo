{
 "cells": [
  {
   "cell_type": "code",
   "execution_count": 26,
   "id": "be8f0d17-f45c-46d2-abf1-6261e7cc3fcf",
   "metadata": {},
   "outputs": [
    {
     "name": "stdout",
     "output_type": "stream",
     "text": [
      "20\n",
      "odd\n",
      "None\n"
     ]
    }
   ],
   "source": [
    "import calc \n",
    "\n",
    "print(calc.m(10, 2))\n",
    "print(calc.oddeven(7))"
   ]
  },
  {
   "cell_type": "code",
   "execution_count": null,
   "id": "fb1b333e-48b5-4512-a073-d7dc637fe586",
   "metadata": {},
   "outputs": [],
   "source": []
  }
 ],
 "metadata": {
  "kernelspec": {
   "display_name": "Python 3 (ipykernel)",
   "language": "python",
   "name": "python3"
  },
  "language_info": {
   "codemirror_mode": {
    "name": "ipython",
    "version": 3
   },
   "file_extension": ".py",
   "mimetype": "text/x-python",
   "name": "python",
   "nbconvert_exporter": "python",
   "pygments_lexer": "ipython3",
   "version": "3.11.9"
  }
 },
 "nbformat": 4,
 "nbformat_minor": 5
}
