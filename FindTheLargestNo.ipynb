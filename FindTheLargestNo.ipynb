{
 "cells": [
  {
   "cell_type": "code",
   "execution_count": 2,
   "id": "717c4f0b-50db-4331-983b-8bb877af78b2",
   "metadata": {},
   "outputs": [
    {
     "name": "stdin",
     "output_type": "stream",
     "text": [
      "enter a number 5\n",
      "enter a number 5\n",
      "enter a number 9\n",
      "enter a number 5\n",
      "enter a number 4\n",
      "enter a number 57\n",
      "enter a number 8\n",
      "enter a number 85\n",
      "enter a number 85\n",
      "enter a number 887\n"
     ]
    },
    {
     "name": "stdout",
     "output_type": "stream",
     "text": [
      "887\n"
     ]
    }
   ],
   "source": [
    "l=[]\n",
    "sum=0\n",
    "for i in range(10):\n",
    "    x = int(input(\"enter a number\"))\n",
    "    l.append(x)\n",
    "\n",
    "#using max funtion \n",
    "\n",
    "maxnum=max(l)\n",
    "print(maxnum)\n",
    "\n",
    "\n",
    "\n",
    "\n"
   ]
  },
  {
   "cell_type": "code",
   "execution_count": null,
   "id": "418e20a4-4d57-4c0a-a55d-ee57c13d1afa",
   "metadata": {},
   "outputs": [],
   "source": []
  }
 ],
 "metadata": {
  "kernelspec": {
   "display_name": "Python 3 (ipykernel)",
   "language": "python",
   "name": "python3"
  },
  "language_info": {
   "codemirror_mode": {
    "name": "ipython",
    "version": 3
   },
   "file_extension": ".py",
   "mimetype": "text/x-python",
   "name": "python",
   "nbconvert_exporter": "python",
   "pygments_lexer": "ipython3",
   "version": "3.11.9"
  }
 },
 "nbformat": 4,
 "nbformat_minor": 5
}
