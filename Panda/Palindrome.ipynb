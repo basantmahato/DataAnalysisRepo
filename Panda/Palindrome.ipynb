{
 "cells": [
  {
   "cell_type": "code",
   "execution_count": null,
   "id": "0effc1e5-2f7e-4243-bf0f-a86bc443816a",
   "metadata": {},
   "outputs": [],
   "source": [
    "x = int(input(\"enter a number\"))\n",
    "orignal = n\n",
    "reverse = 0\n",
    "\n",
    "\n",
    "while n > 0:\n",
    "    digit = n % 10\n",
    "    reverse = reverse * 10+ digit \n",
    "    n = n // 10\n",
    "\n",
    "if orignal == reverse:\n",
    "    print(\"its palindrome\")\n",
    "\n",
    "else:\n",
    "    print(\"Not a palindrome\")\n"
   ]
  }
 ],
 "metadata": {
  "kernelspec": {
   "display_name": "Python 3 (ipykernel)",
   "language": "python",
   "name": "python3"
  },
  "language_info": {
   "codemirror_mode": {
    "name": "ipython",
    "version": 3
   },
   "file_extension": ".py",
   "mimetype": "text/x-python",
   "name": "python",
   "nbconvert_exporter": "python",
   "pygments_lexer": "ipython3",
   "version": "3.11.9"
  }
 },
 "nbformat": 4,
 "nbformat_minor": 5
}
