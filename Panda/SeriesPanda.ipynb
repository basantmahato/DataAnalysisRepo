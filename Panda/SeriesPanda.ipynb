{
 "cells": [
  {
   "cell_type": "markdown",
   "id": "436a04f7-ec14-4369-add8-7b8c970d87d8",
   "metadata": {},
   "source": [
    "Panda Series"
   ]
  },
  {
   "cell_type": "code",
   "execution_count": 1,
   "id": "e8400223-3383-44bc-8dee-2daf445a3795",
   "metadata": {},
   "outputs": [],
   "source": [
    "import pandas as pd"
   ]
  },
  {
   "cell_type": "code",
   "execution_count": 4,
   "id": "50445984-b026-40e8-b130-52894a2c9122",
   "metadata": {},
   "outputs": [
    {
     "data": {
      "text/plain": [
       "0       1\n",
       "1    Jhon\n",
       "2       2\n",
       "3    Ruby\n",
       "dtype: object"
      ]
     },
     "execution_count": 4,
     "metadata": {},
     "output_type": "execute_result"
    }
   ],
   "source": [
    "obj=pd.Series([1,\"Jhon\",2,\"Ruby\"])\n",
    "\n",
    "obj"
   ]
  },
  {
   "cell_type": "code",
   "execution_count": 5,
   "id": "234e7e6d-c624-4ba3-9737-d79abca96101",
   "metadata": {},
   "outputs": [
    {
     "data": {
      "text/plain": [
       "1"
      ]
     },
     "execution_count": 5,
     "metadata": {},
     "output_type": "execute_result"
    }
   ],
   "source": [
    "obj[0]"
   ]
  },
  {
   "cell_type": "code",
   "execution_count": 6,
   "id": "4110a86b-331f-4e75-8f78-187d5eebd3ef",
   "metadata": {},
   "outputs": [
    {
     "data": {
      "text/plain": [
       "2"
      ]
     },
     "execution_count": 6,
     "metadata": {},
     "output_type": "execute_result"
    }
   ],
   "source": [
    "obj[2]"
   ]
  },
  {
   "cell_type": "code",
   "execution_count": 7,
   "id": "7543573e-cfa6-466d-ab94-c820dcdbaf16",
   "metadata": {},
   "outputs": [
    {
     "data": {
      "text/plain": [
       "1    Jhon\n",
       "2       2\n",
       "3    Ruby\n",
       "dtype: object"
      ]
     },
     "execution_count": 7,
     "metadata": {},
     "output_type": "execute_result"
    }
   ],
   "source": [
    "obj[1:4]"
   ]
  },
  {
   "cell_type": "code",
   "execution_count": 8,
   "id": "bbddede5-db1f-4185-8be5-8542c28e79f1",
   "metadata": {},
   "outputs": [],
   "source": [
    "obj2=pd.Series([1,\"Jhon\",3.5,\"Hey\"],index=[\"a\",\"b\",\"c\",\"d\"])"
   ]
  },
  {
   "cell_type": "code",
   "execution_count": 9,
   "id": "aeb4d4a6-079f-417f-b489-21d80e6ac8af",
   "metadata": {},
   "outputs": [
    {
     "data": {
      "text/plain": [
       "a       1\n",
       "b    Jhon\n",
       "c     3.5\n",
       "d     Hey\n",
       "dtype: object"
      ]
     },
     "execution_count": 9,
     "metadata": {},
     "output_type": "execute_result"
    }
   ],
   "source": [
    "obj2"
   ]
  },
  {
   "cell_type": "code",
   "execution_count": 11,
   "id": "4d8475bf-3756-43b5-8d23-307dc241df28",
   "metadata": {},
   "outputs": [
    {
     "data": {
      "text/plain": [
       "'Jhon'"
      ]
     },
     "execution_count": 11,
     "metadata": {},
     "output_type": "execute_result"
    }
   ],
   "source": [
    "obj2[\"b\"]"
   ]
  },
  {
   "cell_type": "code",
   "execution_count": 26,
   "id": "a2e81477-53b0-4a62-a081-694373b46247",
   "metadata": {},
   "outputs": [
    {
     "data": {
      "text/plain": [
       "June     90\n",
       "Ruby     95\n",
       "Bill     80\n",
       "Harry    85\n",
       "dtype: int64"
      ]
     },
     "execution_count": 26,
     "metadata": {},
     "output_type": "execute_result"
    }
   ],
   "source": [
    "Score ={\"June\":90,\"Ruby\":95,\"Bill\":80,\"Harry\":85}\n",
    "n=pd.Series(Score)\n",
    "n"
   ]
  },
  {
   "cell_type": "code",
   "execution_count": 28,
   "id": "89cc8b54-4047-45f9-acbe-4ce4886ab4e0",
   "metadata": {},
   "outputs": [
    {
     "data": {
      "text/plain": [
       "np.int64(90)"
      ]
     },
     "execution_count": 28,
     "metadata": {},
     "output_type": "execute_result"
    }
   ],
   "source": [
    "n[\"June\"]"
   ]
  },
  {
   "cell_type": "code",
   "execution_count": 30,
   "id": "d630b602-9fd1-415d-a843-4f64faeea8ee",
   "metadata": {},
   "outputs": [
    {
     "data": {
      "text/plain": [
       "June     90\n",
       "Ruby     95\n",
       "Bill     80\n",
       "Harry    85\n",
       "dtype: int64"
      ]
     },
     "execution_count": 30,
     "metadata": {},
     "output_type": "execute_result"
    }
   ],
   "source": [
    "S =pd.Series({\"June\":90,\"Ruby\":95,\"Bill\":80,\"Harry\":85})\n",
    "S"
   ]
  },
  {
   "cell_type": "code",
   "execution_count": 31,
   "id": "f24c50b0-d91e-43d4-bc7a-6d674a990bd2",
   "metadata": {},
   "outputs": [
    {
     "data": {
      "text/plain": [
       "np.int64(90)"
      ]
     },
     "execution_count": 31,
     "metadata": {},
     "output_type": "execute_result"
    }
   ],
   "source": [
    "S[\"June\"]"
   ]
  },
  {
   "cell_type": "code",
   "execution_count": 32,
   "id": "49e05124-0a11-4654-b670-1e70dca3ad81",
   "metadata": {},
   "outputs": [
    {
     "data": {
      "text/plain": [
       "June     90\n",
       "Ruby     95\n",
       "Harry    85\n",
       "dtype: int64"
      ]
     },
     "execution_count": 32,
     "metadata": {},
     "output_type": "execute_result"
    }
   ],
   "source": [
    "S[S>=85]"
   ]
  },
  {
   "cell_type": "code",
   "execution_count": 36,
   "id": "f631ff29-b4c9-4a47-8da1-028c7f791319",
   "metadata": {},
   "outputs": [
    {
     "data": {
      "text/plain": [
       "True"
      ]
     },
     "execution_count": 36,
     "metadata": {},
     "output_type": "execute_result"
    }
   ],
   "source": [
    "\"Ruby\" in S"
   ]
  },
  {
   "cell_type": "code",
   "execution_count": 35,
   "id": "5e3a66d3-fdc2-427f-8c69-83816741bf89",
   "metadata": {},
   "outputs": [
    {
     "data": {
      "text/plain": [
       "June     9.0\n",
       "Ruby     9.5\n",
       "Bill     8.0\n",
       "Harry    8.5\n",
       "dtype: float64"
      ]
     },
     "execution_count": 35,
     "metadata": {},
     "output_type": "execute_result"
    }
   ],
   "source": [
    "S/10"
   ]
  },
  {
   "cell_type": "code",
   "execution_count": 37,
   "id": "b08eea9e-60fc-4c61-814d-9bed1369c354",
   "metadata": {},
   "outputs": [
    {
     "data": {
      "text/plain": [
       "<bound method Series.isnull of June     90\n",
       "Ruby     95\n",
       "Bill     80\n",
       "Harry    85\n",
       "dtype: int64>"
      ]
     },
     "execution_count": 37,
     "metadata": {},
     "output_type": "execute_result"
    }
   ],
   "source": [
    "S.isnull"
   ]
  },
  {
   "cell_type": "code",
   "execution_count": 38,
   "id": "4423f376-e068-4ff2-a880-8b1ca18e916a",
   "metadata": {},
   "outputs": [
    {
     "data": {
      "text/plain": [
       "June     8100\n",
       "Ruby     9025\n",
       "Bill     6400\n",
       "Harry    7225\n",
       "dtype: int64"
      ]
     },
     "execution_count": 38,
     "metadata": {},
     "output_type": "execute_result"
    }
   ],
   "source": [
    "S**2"
   ]
  },
  {
   "cell_type": "code",
   "execution_count": 40,
   "id": "7d49b2ca-5254-4653-be6a-01decacff569",
   "metadata": {},
   "outputs": [
    {
     "data": {
      "text/plain": [
       "np.int64(0)"
      ]
     },
     "execution_count": 40,
     "metadata": {},
     "output_type": "execute_result"
    }
   ],
   "source": [
    "S.isnull().sum()"
   ]
  },
  {
   "cell_type": "code",
   "execution_count": 42,
   "id": "4bbe5e14-4aae-4f60-a134-18a77ff09636",
   "metadata": {},
   "outputs": [
    {
     "data": {
      "text/plain": [
       "count     4.000000\n",
       "mean     87.500000\n",
       "std       6.454972\n",
       "min      80.000000\n",
       "25%      83.750000\n",
       "50%      87.500000\n",
       "75%      91.250000\n",
       "max      95.000000\n",
       "dtype: float64"
      ]
     },
     "execution_count": 42,
     "metadata": {},
     "output_type": "execute_result"
    }
   ],
   "source": [
    "S.describe()"
   ]
  },
  {
   "cell_type": "code",
   "execution_count": null,
   "id": "0b9b509c-0362-4c0e-9422-f35077454f54",
   "metadata": {},
   "outputs": [],
   "source": []
  }
 ],
 "metadata": {
  "kernelspec": {
   "display_name": "Python 3 (ipykernel)",
   "language": "python",
   "name": "python3"
  },
  "language_info": {
   "codemirror_mode": {
    "name": "ipython",
    "version": 3
   },
   "file_extension": ".py",
   "mimetype": "text/x-python",
   "name": "python",
   "nbconvert_exporter": "python",
   "pygments_lexer": "ipython3",
   "version": "3.11.9"
  }
 },
 "nbformat": 4,
 "nbformat_minor": 5
}
