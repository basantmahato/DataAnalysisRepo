{
 "cells": [
  {
   "cell_type": "code",
   "execution_count": 1,
   "id": "da6d9302-88eb-40f6-b525-3212fad3babd",
   "metadata": {},
   "outputs": [
    {
     "name": "stdout",
     "output_type": "stream",
     "text": [
      "   A  B\n",
      "0  1  5\n",
      "1  2  6\n",
      "2  3  7\n",
      "3  4  8\n",
      "4  5  9\n"
     ]
    }
   ],
   "source": [
    "import pandas as pd\n",
    "\n",
    "var = pd.DataFrame({\"A\":[1,2,3,4,5],\"B\":[5,6,7,8,9]})\n",
    "print(var)"
   ]
  },
  {
   "cell_type": "code",
   "execution_count": 9,
   "id": "87d38ff4-c84a-426d-a1c4-16f50e644a1f",
   "metadata": {},
   "outputs": [],
   "source": [
    "#addition of columns\n",
    "\n",
    "var[\"C\"] = var[\"A\"] + var[\"B\"]"
   ]
  },
  {
   "cell_type": "code",
   "execution_count": 10,
   "id": "bdfc2f23-7081-48d7-ae0b-4e7cdd163ff9",
   "metadata": {},
   "outputs": [
    {
     "name": "stdout",
     "output_type": "stream",
     "text": [
      "   A  B  C  S\n",
      "0  1  5 -4  4\n",
      "1  2  6 -4  4\n",
      "2  3  7 -4  4\n",
      "3  4  8 -4  4\n",
      "4  5  9 -4  4\n"
     ]
    }
   ],
   "source": [
    "print(var)"
   ]
  },
  {
   "cell_type": "code",
   "execution_count": 12,
   "id": "21664108-fc3a-465e-904c-d5d884f55556",
   "metadata": {},
   "outputs": [
    {
     "name": "stdout",
     "output_type": "stream",
     "text": [
      "   A  B  C  S\n",
      "0  1  5 -4  4\n",
      "1  2  6 -4  4\n",
      "2  3  7 -4  4\n",
      "3  4  8 -4  4\n",
      "4  5  9 -4  4\n"
     ]
    }
   ],
   "source": [
    "#substrction of columns\n",
    "var[\"S\"] = var[\"B\"] - var[\"A\"]\n",
    "print(var)"
   ]
  }
 ],
 "metadata": {
  "kernelspec": {
   "display_name": "Python 3 (ipykernel)",
   "language": "python",
   "name": "python3"
  },
  "language_info": {
   "codemirror_mode": {
    "name": "ipython",
    "version": 3
   },
   "file_extension": ".py",
   "mimetype": "text/x-python",
   "name": "python",
   "nbconvert_exporter": "python",
   "pygments_lexer": "ipython3",
   "version": "3.11.9"
  }
 },
 "nbformat": 4,
 "nbformat_minor": 5
}
