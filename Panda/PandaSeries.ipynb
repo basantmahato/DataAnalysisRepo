{
 "cells": [
  {
   "cell_type": "code",
   "execution_count": 9,
   "id": "01a82183-f80f-4897-9a29-acad8b20e737",
   "metadata": {},
   "outputs": [
    {
     "name": "stdout",
     "output_type": "stream",
     "text": [
      "a    1.0\n",
      "b    2.0\n",
      "c    3.0\n",
      "dtype: float64\n",
      "<class 'pandas.core.series.Series'>\n",
      "2.0\n"
     ]
    },
    {
     "name": "stderr",
     "output_type": "stream",
     "text": [
      "C:\\Users\\BASANT\\AppData\\Local\\Temp\\ipykernel_1612\\983741582.py:9: FutureWarning: Series.__getitem__ treating keys as positions is deprecated. In a future version, integer keys will always be treated as labels (consistent with DataFrame behavior). To access a value by position, use `ser.iloc[pos]`\n",
      "  print(a[1])\n"
     ]
    }
   ],
   "source": [
    "import pandas as pd\n",
    "\n",
    "x=[1,2,3]\n",
    "\n",
    "a = pd.Series(x,index=['a','b','c'],dtype ='float')\n",
    "\n",
    "print(a)\n",
    "print(type(a))\n",
    "print(a[1])\n",
    "\n",
    "\n"
   ]
  },
  {
   "cell_type": "code",
   "execution_count": null,
   "id": "45027142-7b88-4988-a13c-15b98e6e794e",
   "metadata": {},
   "outputs": [],
   "source": []
  }
 ],
 "metadata": {
  "kernelspec": {
   "display_name": "Python 3 (ipykernel)",
   "language": "python",
   "name": "python3"
  },
  "language_info": {
   "codemirror_mode": {
    "name": "ipython",
    "version": 3
   },
   "file_extension": ".py",
   "mimetype": "text/x-python",
   "name": "python",
   "nbconvert_exporter": "python",
   "pygments_lexer": "ipython3",
   "version": "3.11.9"
  }
 },
 "nbformat": 4,
 "nbformat_minor": 5
}
