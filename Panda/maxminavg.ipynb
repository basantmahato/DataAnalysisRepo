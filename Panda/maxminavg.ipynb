{
 "cells": [
  {
   "cell_type": "code",
   "execution_count": 11,
   "id": "9f7c0348-6bd6-44bd-a588-52f5231f4fa4",
   "metadata": {},
   "outputs": [
    {
     "name": "stdin",
     "output_type": "stream",
     "text": [
      "Marks obtained in 1245\n",
      "Marks obtained in  545\n",
      "Marks obtained in 4545\n",
      "Marks obtained in 454\n",
      "Marks obtained  656\n"
     ]
    },
    {
     "name": "stdout",
     "output_type": "stream",
     "text": [
      "avg marks 1489.0\n",
      "max marks 4545\n",
      "min marks 454\n"
     ]
    }
   ],
   "source": [
    "Math = int(input(\"Marks obtained in\"))\n",
    "English = int(input(\"Marks obtained in \"))\n",
    "Computer = int(input(\"Marks obtained in\"))\n",
    "Science = int(input(\"Marks obtained in\"))\n",
    "Evs = int(input(\"Marks obtained \"))\n",
    "\n",
    "marks = Math+English+Computer+Science+Evs\n",
    "\n",
    "maxmarks = max(Math,English,Computer,Science,Evs)\n",
    "minmarks = min(Math,English,Computer,Science,Evs)\n",
    "\n",
    "\n",
    "avg = marks/5\n",
    "\n",
    "print(\"avg marks\",avg)\n",
    "print(\"max marks\",maxmarks)\n",
    "print(\"min marks\",minmarks)\n",
    "\n"
   ]
  },
  {
   "cell_type": "code",
   "execution_count": null,
   "id": "420f25c7-45f5-4c2e-be06-da02131f4dc4",
   "metadata": {},
   "outputs": [],
   "source": []
  }
 ],
 "metadata": {
  "kernelspec": {
   "display_name": "Python 3 (ipykernel)",
   "language": "python",
   "name": "python3"
  },
  "language_info": {
   "codemirror_mode": {
    "name": "ipython",
    "version": 3
   },
   "file_extension": ".py",
   "mimetype": "text/x-python",
   "name": "python",
   "nbconvert_exporter": "python",
   "pygments_lexer": "ipython3",
   "version": "3.11.9"
  }
 },
 "nbformat": 4,
 "nbformat_minor": 5
}
