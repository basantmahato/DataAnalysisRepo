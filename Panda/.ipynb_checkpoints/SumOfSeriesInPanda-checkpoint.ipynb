{
 "cells": [
  {
   "cell_type": "code",
   "execution_count": null,
   "id": "73d6cfe2-ab40-4731-a011-889a2769b5c1",
   "metadata": {},
   "outputs": [],
   "source": [
    "import pandas as pd \n",
    "\n",
    "x=[1,2,3,4,5,6,7]\n",
    "y=[7,6,5,4,3,2,1]\n",
    "\n",
    "s1=pd.Series(x)\n",
    "s2=pd.Series(y)\n",
    "\n",
    "sum = s1 + s2\n",
    "\n",
    "print(sum)\n"
   ]
  }
 ],
 "metadata": {
  "kernelspec": {
   "display_name": "Python 3 (ipykernel)",
   "language": "python",
   "name": "python3"
  },
  "language_info": {
   "codemirror_mode": {
    "name": "ipython",
    "version": 3
   },
   "file_extension": ".py",
   "mimetype": "text/x-python",
   "name": "python",
   "nbconvert_exporter": "python",
   "pygments_lexer": "ipython3",
   "version": "3.11.9"
  }
 },
 "nbformat": 4,
 "nbformat_minor": 5
}
