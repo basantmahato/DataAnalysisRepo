{
 "cells": [
  {
   "cell_type": "code",
   "execution_count": 5,
   "id": "e51b073b-55eb-40a2-91cf-004bff533def",
   "metadata": {},
   "outputs": [
    {
     "name": "stdout",
     "output_type": "stream",
     "text": [
      "       Name  Roll\n",
      "0    Harish     1\n",
      "1  Phalguni     2\n",
      "2     Arjun     3\n",
      "3     Manik     4\n",
      "4   Subhash     5\n"
     ]
    }
   ],
   "source": [
    "import pandas as pd\n",
    "\n",
    "d={\"Name\":['Harish','Phalguni','Arjun','Manik','Subhash'],\"Roll\":[1,2,3,4,5]}\n",
    "\n",
    "df = pd.DataFrame(d)\n",
    "\n",
    "print(df)\n"
   ]
  },
  {
   "cell_type": "code",
   "execution_count": 15,
   "id": "37f1f14f-1707-4aa7-8149-612b7e287ab9",
   "metadata": {},
   "outputs": [
    {
     "name": "stdout",
     "output_type": "stream",
     "text": [
      "       Name\n",
      "a    Harish\n",
      "s  Phalguni\n",
      "d     Arjun\n",
      "f     Manik\n",
      "g   Subhash\n",
      "Phalguni\n"
     ]
    }
   ],
   "source": [
    "import pandas as pd\n",
    "\n",
    "d={\"Name\":['Harish','Phalguni','Arjun','Manik','Subhash'],\"Roll\":[1,2,3,4,5]}\n",
    "\n",
    "df = pd.DataFrame(d,columns=[\"Name\"],index=['a','s','d','f','g'])\n",
    "\n",
    "print(df)\n",
    "\n",
    "print(df[\"Name\"]['s'])\n"
   ]
  },
  {
   "cell_type": "code",
   "execution_count": null,
   "id": "29e9790e-b494-4a36-8920-bb17d4ace30f",
   "metadata": {},
   "outputs": [],
   "source": []
  }
 ],
 "metadata": {
  "kernelspec": {
   "display_name": "Python 3 (ipykernel)",
   "language": "python",
   "name": "python3"
  },
  "language_info": {
   "codemirror_mode": {
    "name": "ipython",
    "version": 3
   },
   "file_extension": ".py",
   "mimetype": "text/x-python",
   "name": "python",
   "nbconvert_exporter": "python",
   "pygments_lexer": "ipython3",
   "version": "3.11.9"
  }
 },
 "nbformat": 4,
 "nbformat_minor": 5
}
