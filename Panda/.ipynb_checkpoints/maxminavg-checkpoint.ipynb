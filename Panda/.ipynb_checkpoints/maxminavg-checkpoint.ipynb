{
 "cells": [
  {
   "cell_type": "code",
   "execution_count": 6,
   "id": "9f7c0348-6bd6-44bd-a588-52f5231f4fa4",
   "metadata": {},
   "outputs": [
    {
     "name": "stdin",
     "output_type": "stream",
     "text": [
      "Marks obtained in 4546\n",
      "Marks obtained in  4545\n",
      "Marks obtained in 5454\n",
      "Marks obtained in 546\n",
      "Marks obtained  545\n"
     ]
    },
    {
     "name": "stdout",
     "output_type": "stream",
     "text": [
      "3127.2\n"
     ]
    }
   ],
   "source": [
    "Math = int(input(\"Marks obtained in\"))\n",
    "English = int(input(\"Marks obtained in \"))\n",
    "Computer = int(input(\"Marks obtained in\"))\n",
    "Science = int(input(\"Marks obtained in\"))\n",
    "Evs = int(input(\"Marks obtained \"))\n",
    "\n",
    "marks = Math+English+Computer+Science+Evs\n",
    "\n",
    "avg = marks/5\n",
    "\n",
    "print(\"avg marks\",:avg)"
   ]
  },
  {
   "cell_type": "code",
   "execution_count": null,
   "id": "420f25c7-45f5-4c2e-be06-da02131f4dc4",
   "metadata": {},
   "outputs": [],
   "source": []
  }
 ],
 "metadata": {
  "kernelspec": {
   "display_name": "Python 3 (ipykernel)",
   "language": "python",
   "name": "python3"
  },
  "language_info": {
   "codemirror_mode": {
    "name": "ipython",
    "version": 3
   },
   "file_extension": ".py",
   "mimetype": "text/x-python",
   "name": "python",
   "nbconvert_exporter": "python",
   "pygments_lexer": "ipython3",
   "version": "3.11.9"
  }
 },
 "nbformat": 4,
 "nbformat_minor": 5
}
