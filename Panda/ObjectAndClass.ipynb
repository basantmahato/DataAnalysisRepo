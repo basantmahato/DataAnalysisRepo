{
 "cells": [
  {
   "cell_type": "code",
   "execution_count": 5,
   "id": "e1d1e2fc-3084-4e3a-93b3-8d82489d51aa",
   "metadata": {},
   "outputs": [
    {
     "name": "stdout",
     "output_type": "stream",
     "text": [
      "harry\n"
     ]
    }
   ],
   "source": [
    "class Person:\n",
    "    name ='basant'\n",
    "    job = 'developer'\n",
    "    networth = 50400\n",
    "\n",
    "obj = Person()  \n",
    "obj.name='harry'\n",
    "\n",
    "\n",
    "print(obj.name)\n"
   ]
  },
  {
   "cell_type": "code",
   "execution_count": null,
   "id": "7b588b9f-c65f-40f1-97bf-9d8401c37ff9",
   "metadata": {},
   "outputs": [],
   "source": []
  }
 ],
 "metadata": {
  "kernelspec": {
   "display_name": "Python 3 (ipykernel)",
   "language": "python",
   "name": "python3"
  },
  "language_info": {
   "codemirror_mode": {
    "name": "ipython",
    "version": 3
   },
   "file_extension": ".py",
   "mimetype": "text/x-python",
   "name": "python",
   "nbconvert_exporter": "python",
   "pygments_lexer": "ipython3",
   "version": "3.11.9"
  }
 },
 "nbformat": 4,
 "nbformat_minor": 5
}
