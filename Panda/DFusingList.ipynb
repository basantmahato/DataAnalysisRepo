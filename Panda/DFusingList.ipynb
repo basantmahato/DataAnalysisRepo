{
 "cells": [
  {
   "cell_type": "code",
   "execution_count": 1,
   "id": "0519ac94-8387-427c-b141-fb17bb0de30b",
   "metadata": {},
   "outputs": [
    {
     "name": "stdout",
     "output_type": "stream",
     "text": [
      "    0   1   2   3   4   5   6\n",
      "0   1   2   3   4   5   6   7\n",
      "1  11  22  33  44  55  66  77\n"
     ]
    }
   ],
   "source": [
    "import pandas as pd\n",
    "\n",
    "l=[[1,2,3,4,5,6,7],[11,22,33,44,55,66,77]]\n",
    "\n",
    "df=pd.DataFrame(l)\n",
    "\n",
    "print(df)"
   ]
  },
  {
   "cell_type": "code",
   "execution_count": null,
   "id": "d8d1ef82-474a-4a73-8f1e-0d3e60f2216b",
   "metadata": {},
   "outputs": [],
   "source": []
  }
 ],
 "metadata": {
  "kernelspec": {
   "display_name": "Python 3 (ipykernel)",
   "language": "python",
   "name": "python3"
  },
  "language_info": {
   "codemirror_mode": {
    "name": "ipython",
    "version": 3
   },
   "file_extension": ".py",
   "mimetype": "text/x-python",
   "name": "python",
   "nbconvert_exporter": "python",
   "pygments_lexer": "ipython3",
   "version": "3.11.9"
  }
 },
 "nbformat": 4,
 "nbformat_minor": 5
}
