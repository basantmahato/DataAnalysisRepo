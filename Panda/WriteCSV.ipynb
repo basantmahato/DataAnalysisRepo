{
 "cells": [
  {
   "cell_type": "code",
   "execution_count": 4,
   "id": "23ac14e6-af21-4c7d-b162-584e6d4d5ce9",
   "metadata": {},
   "outputs": [
    {
     "name": "stdout",
     "output_type": "stream",
     "text": [
      "   a  s  d\n",
      "0  1  5  1\n",
      "1  2  6  2\n",
      "2  3  7  3\n",
      "3  4  8  4\n",
      "4  5  9  5\n"
     ]
    }
   ],
   "source": [
    "import pandas as pd\n",
    "\n",
    "dis ={\"a\":[1,2,3,4,5],\"s\":[5,6,7,8,9] ,\"d\":[1,2,3,4,5]}\n",
    "\n",
    "d=pd.DataFrame(dis)\n",
    "print(d)\n",
    "\n",
    "\n",
    "d.to_csv(\"WriteCSV.csv\",index=False)"
   ]
  },
  {
   "cell_type": "code",
   "execution_count": null,
   "id": "18eaee76-9fd3-4b36-b368-493e86073f71",
   "metadata": {},
   "outputs": [],
   "source": []
  }
 ],
 "metadata": {
  "kernelspec": {
   "display_name": "Python 3 (ipykernel)",
   "language": "python",
   "name": "python3"
  },
  "language_info": {
   "codemirror_mode": {
    "name": "ipython",
    "version": 3
   },
   "file_extension": ".py",
   "mimetype": "text/x-python",
   "name": "python",
   "nbconvert_exporter": "python",
   "pygments_lexer": "ipython3",
   "version": "3.11.9"
  }
 },
 "nbformat": 4,
 "nbformat_minor": 5
}
