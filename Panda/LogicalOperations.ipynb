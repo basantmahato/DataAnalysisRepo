{
 "cells": [
  {
   "cell_type": "code",
   "execution_count": 3,
   "id": "7656019e-f510-45ac-9de8-2cd8a76ed774",
   "metadata": {},
   "outputs": [
    {
     "name": "stdout",
     "output_type": "stream",
     "text": [
      "    A  B\n",
      "0  10  1\n",
      "1  20  2\n",
      "2  30  3\n",
      "3  40  4\n",
      "4  50  5\n"
     ]
    }
   ],
   "source": [
    "import pandas as pd\n",
    "\n",
    "\n",
    "data = pd.DataFrame({\"A\":[10,20,30,40,50],\"B\":[1,2,3,4,5]})\n",
    "\n",
    "print(data)"
   ]
  },
  {
   "cell_type": "code",
   "execution_count": 4,
   "id": "2af2fbe7-d81c-485e-ae6e-0910f2ad4114",
   "metadata": {},
   "outputs": [],
   "source": [
    "data[\"Greater\"]= data[\"A\"]<=20"
   ]
  },
  {
   "cell_type": "code",
   "execution_count": 5,
   "id": "f5afe066-d8e0-4845-a0c3-a589a99da5bb",
   "metadata": {},
   "outputs": [
    {
     "name": "stdout",
     "output_type": "stream",
     "text": [
      "    A  B  Greater\n",
      "0  10  1     True\n",
      "1  20  2     True\n",
      "2  30  3    False\n",
      "3  40  4    False\n",
      "4  50  5    False\n"
     ]
    }
   ],
   "source": [
    "print(data)"
   ]
  },
  {
   "cell_type": "code",
   "execution_count": null,
   "id": "9bc6a5ab-baff-4c68-a7ef-1561e8fe1e83",
   "metadata": {},
   "outputs": [],
   "source": []
  }
 ],
 "metadata": {
  "kernelspec": {
   "display_name": "Python 3 (ipykernel)",
   "language": "python",
   "name": "python3"
  },
  "language_info": {
   "codemirror_mode": {
    "name": "ipython",
    "version": 3
   },
   "file_extension": ".py",
   "mimetype": "text/x-python",
   "name": "python",
   "nbconvert_exporter": "python",
   "pygments_lexer": "ipython3",
   "version": "3.11.9"
  }
 },
 "nbformat": 4,
 "nbformat_minor": 5
}
