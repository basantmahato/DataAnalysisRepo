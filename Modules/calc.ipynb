{
 "cells": [
  {
   "cell_type": "code",
   "execution_count": null,
   "id": "50441c26-e11b-4bb0-b0a9-70d92b20f69a",
   "metadata": {},
   "outputs": [],
   "source": [
    "def m(a,b):\n",
    "    return (a*b)\n",
    "\n",
    "def p(x):\n",
    "    return (x+1)\n",
    "\n",
    "def oddeven(value):\n",
    "    if value % 2 == 0:\n",
    "      print(\"Even\") \n",
    "    else:\n",
    "        print(\"odd\")\n",
    "\n",
    "def sqroot(val):\n",
    "    return(val ** 0.5)"
   ]
  }
 ],
 "metadata": {
  "kernelspec": {
   "display_name": "Python 3 (ipykernel)",
   "language": "python",
   "name": "python3"
  },
  "language_info": {
   "codemirror_mode": {
    "name": "ipython",
    "version": 3
   },
   "file_extension": ".py",
   "mimetype": "text/x-python",
   "name": "python",
   "nbconvert_exporter": "python",
   "pygments_lexer": "ipython3",
   "version": "3.11.9"
  }
 },
 "nbformat": 4,
 "nbformat_minor": 5
}
