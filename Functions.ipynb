{
 "cells": [
  {
   "cell_type": "code",
   "execution_count": 2,
   "id": "4bef8fa0-1008-4e26-b0a7-53f8137b984e",
   "metadata": {},
   "outputs": [
    {
     "name": "stdout",
     "output_type": "stream",
     "text": [
      "3.076923076923077\n"
     ]
    }
   ],
   "source": [
    "def calculateGmean(a,b):\n",
    "    mean = (a*b)/(a+b)\n",
    "    print(mean)\n",
    "\n",
    "\n",
    "\n",
    "calculateGmean(5,8)"
   ]
  },
  {
   "cell_type": "code",
   "execution_count": 6,
   "id": "d0272994-1cb4-4c9d-bc91-a94affd40f51",
   "metadata": {},
   "outputs": [
    {
     "name": "stdin",
     "output_type": "stream",
     "text": [
      "Enter a number 5\n",
      "Enter a number 6\n"
     ]
    },
    {
     "name": "stdout",
     "output_type": "stream",
     "text": [
      "y is greater\n",
      "y is greater\n"
     ]
    }
   ],
   "source": [
    "def isgreater(a,b):\n",
    "\n",
    "\n",
    "    if x>y:\n",
    "        print(\"x is greater\")\n",
    "\n",
    "    else:\n",
    "        print(\"y is greater\")\n",
    "\n",
    "        \n",
    "x = int(input(\"Enter a number\"))       \n",
    "isgreater(x,y)    \n",
    "\n",
    "\n",
    "isgreater(x,y)    "
   ]
  },
  {
   "cell_type": "code",
   "execution_count": null,
   "id": "a5dde2ce-59cc-416a-9e51-1e96d81d2e61",
   "metadata": {},
   "outputs": [],
   "source": []
  },
  {
   "cell_type": "code",
   "execution_count": null,
   "id": "35627be5-913d-4e12-99b4-42be16a7f720",
   "metadata": {},
   "outputs": [],
   "source": []
  }
 ],
 "metadata": {
  "kernelspec": {
   "display_name": "Python 3 (ipykernel)",
   "language": "python",
   "name": "python3"
  },
  "language_info": {
   "codemirror_mode": {
    "name": "ipython",
    "version": 3
   },
   "file_extension": ".py",
   "mimetype": "text/x-python",
   "name": "python",
   "nbconvert_exporter": "python",
   "pygments_lexer": "ipython3",
   "version": "3.11.9"
  }
 },
 "nbformat": 4,
 "nbformat_minor": 5
}
