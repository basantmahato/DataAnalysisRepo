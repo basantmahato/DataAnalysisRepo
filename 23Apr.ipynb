{
 "cells": [
  {
   "cell_type": "code",
   "execution_count": 4,
   "id": "0fecdc1f-7b97-4582-bd34-aa0518c3cd09",
   "metadata": {},
   "outputs": [],
   "source": [
    "import numpy as np\n",
    "arr1 = np.array([0,50,5,40,77,60])\n",
    "arr2 = np.array([0,40])"
   ]
  },
  {
   "cell_type": "code",
   "execution_count": 5,
   "id": "84c516a2-ff73-4434-8480-221b19395974",
   "metadata": {},
   "outputs": [
    {
     "name": "stdout",
     "output_type": "stream",
     "text": [
      "[ True False False  True False False]\n"
     ]
    }
   ],
   "source": [
    "print(np.isin(arr1,arr2))"
   ]
  },
  {
   "cell_type": "code",
   "execution_count": 6,
   "id": "099351e0-728c-4507-88f9-1bcd455894d0",
   "metadata": {},
   "outputs": [
    {
     "name": "stdout",
     "output_type": "stream",
     "text": [
      "[ True  True]\n"
     ]
    }
   ],
   "source": [
    "print(np.isin(arr2,arr1))"
   ]
  },
  {
   "cell_type": "code",
   "execution_count": 7,
   "id": "8567a3dc-8d2f-49fa-b03c-c6be705b88f7",
   "metadata": {},
   "outputs": [
    {
     "name": "stdout",
     "output_type": "stream",
     "text": [
      "[10 20 30]\n"
     ]
    }
   ],
   "source": [
    "arrx = np.array([10,10,20,20,30,30])\n",
    "print(str(np.unique(arrx)))"
   ]
  },
  {
   "cell_type": "code",
   "execution_count": 38,
   "id": "8112b194-8d8e-47ff-9527-ba32c1eda3c6",
   "metadata": {},
   "outputs": [],
   "source": [
    "arry = np.array([[5,1],[7,4]])"
   ]
  },
  {
   "cell_type": "code",
   "execution_count": 39,
   "id": "10d1ba4d-30d4-46e5-99f4-113446428386",
   "metadata": {},
   "outputs": [
    {
     "data": {
      "text/plain": [
       "array([[5, 1],\n",
       "       [7, 4]])"
      ]
     },
     "execution_count": 39,
     "metadata": {},
     "output_type": "execute_result"
    }
   ],
   "source": [
    "arry"
   ]
  },
  {
   "cell_type": "code",
   "execution_count": 40,
   "id": "2f021a12-606e-413c-bff0-c71016e02d22",
   "metadata": {},
   "outputs": [],
   "source": [
    "sorted_ar = np.sort(arry, axis = 0)"
   ]
  },
  {
   "cell_type": "code",
   "execution_count": 41,
   "id": "a1409559-ff15-417d-a285-fb405ef0d362",
   "metadata": {},
   "outputs": [
    {
     "data": {
      "text/plain": [
       "array([[5, 1],\n",
       "       [7, 4]])"
      ]
     },
     "execution_count": 41,
     "metadata": {},
     "output_type": "execute_result"
    }
   ],
   "source": [
    "sorted_ar"
   ]
  },
  {
   "cell_type": "code",
   "execution_count": 42,
   "id": "1951c071-6a70-41d3-89eb-23bd8208f16f",
   "metadata": {},
   "outputs": [
    {
     "data": {
      "text/plain": [
       "array([[1, 5],\n",
       "       [4, 7]])"
      ]
     },
     "execution_count": 42,
     "metadata": {},
     "output_type": "execute_result"
    }
   ],
   "source": [
    "sorted_ar2 = np.sort(arry, axis = 1)\n",
    "sorted_ar2"
   ]
  },
  {
   "cell_type": "code",
   "execution_count": 43,
   "id": "62a9a960-6e86-42bd-84a8-941c90eec830",
   "metadata": {},
   "outputs": [
    {
     "data": {
      "text/plain": [
       "array([200., 300.,  nan,  nan,  nan, 700.])"
      ]
     },
     "execution_count": 43,
     "metadata": {},
     "output_type": "execute_result"
    }
   ],
   "source": [
    "arr4 = np.array([200,300,np.nan ,np.nan , np.nan ,700])\n",
    "arr4"
   ]
  },
  {
   "cell_type": "code",
   "execution_count": 44,
   "id": "a9db0539-77d9-42c8-8dc6-2585e9ce6a03",
   "metadata": {},
   "outputs": [],
   "source": [
    "arr5 = arr4[~np.isnan(arr4)]"
   ]
  },
  {
   "cell_type": "code",
   "execution_count": 45,
   "id": "08692ece-7b3f-4007-8353-c60db2370024",
   "metadata": {},
   "outputs": [
    {
     "data": {
      "text/plain": [
       "array([200., 300., 700.])"
      ]
     },
     "execution_count": 45,
     "metadata": {},
     "output_type": "execute_result"
    }
   ],
   "source": [
    "arr5"
   ]
  },
  {
   "cell_type": "code",
   "execution_count": 74,
   "id": "e5e27e82-d347-43cf-b613-f15b50f2f225",
   "metadata": {},
   "outputs": [],
   "source": [
    "arr6 = np.array([0,2,5,2,0,0,0,0,4,5,6,8,5,2,0,2,2])\n",
    "arr7 = np.where(arr6 == 0 )[]"
   ]
  },
  {
   "cell_type": "code",
   "execution_count": 76,
   "id": "a5b39b54-ff00-4b9b-8edf-3445ce776130",
   "metadata": {},
   "outputs": [
    {
     "data": {
      "text/plain": [
       "(array([ 0,  4,  5,  6,  7, 14]),)"
      ]
     },
     "execution_count": 76,
     "metadata": {},
     "output_type": "execute_result"
    }
   ],
   "source": [
    "arr7"
   ]
  },
  {
   "cell_type": "code",
   "execution_count": 78,
   "id": "e2b73e49-4a7b-4c56-a179-0da5162f6e91",
   "metadata": {},
   "outputs": [
    {
     "data": {
      "text/plain": [
       "array([ 4584, 87854, 78745, 54588, 46547])"
      ]
     },
     "execution_count": 78,
     "metadata": {},
     "output_type": "execute_result"
    }
   ],
   "source": [
    "arr8 = np.array([4584,87854,78745,54588,46547])\n",
    "arr8"
   ]
  },
  {
   "cell_type": "code",
   "execution_count": 79,
   "id": "0aaac035-62bf-43e8-86d3-f527fc15da5c",
   "metadata": {},
   "outputs": [],
   "source": [
    "arr9 = np.argsort(arr8)"
   ]
  },
  {
   "cell_type": "code",
   "execution_count": 80,
   "id": "dd1560b4-b2de-481c-9fce-6696318138f9",
   "metadata": {},
   "outputs": [
    {
     "data": {
      "text/plain": [
       "array([0, 4, 3, 2, 1])"
      ]
     },
     "execution_count": 80,
     "metadata": {},
     "output_type": "execute_result"
    }
   ],
   "source": [
    "arr9"
   ]
  },
  {
   "cell_type": "code",
   "execution_count": 93,
   "id": "bd07a72b-4c32-44c5-9475-d59671e6449a",
   "metadata": {},
   "outputs": [
    {
     "data": {
      "text/plain": [
       "array([[1, 4, 6],\n",
       "       [2, 5, 7],\n",
       "       [3, 6, 8]])"
      ]
     },
     "execution_count": 93,
     "metadata": {},
     "output_type": "execute_result"
    }
   ],
   "source": [
    "arr3x3 = np.array([[1,2,3],[4,5,6],[6,7,8]])\n",
    "arr3x3T = arr3x3.T\n",
    "arr3x3T"
   ]
  },
  {
   "cell_type": "code",
   "execution_count": 91,
   "id": "f2db8818-f3d6-4989-b69c-33f566c55c31",
   "metadata": {},
   "outputs": [
    {
     "data": {
      "text/plain": [
       "array([8, 7, 8, 9, 7, 8, 7, 8])"
      ]
     },
     "execution_count": 91,
     "metadata": {},
     "output_type": "execute_result"
    }
   ],
   "source": [
    "arr77 = np.array([5,8,7,8,9,7,8,7,8,9])\n",
    "arr77[1:9]"
   ]
  },
  {
   "cell_type": "code",
   "execution_count": 94,
   "id": "4ad52caa-d8a5-4692-928c-2600c5614c88",
   "metadata": {},
   "outputs": [
    {
     "data": {
      "text/plain": [
       "array([[1, 4, 6],\n",
       "       [2, 5, 7],\n",
       "       [3, 6, 8]])"
      ]
     },
     "execution_count": 94,
     "metadata": {},
     "output_type": "execute_result"
    }
   ],
   "source": [
    "arr3x3T"
   ]
  },
  {
   "cell_type": "code",
   "execution_count": 97,
   "id": "88362d41-1d0b-484c-b488-af5ddd38bf0d",
   "metadata": {},
   "outputs": [],
   "source": [
    "arrd = np.diagonal(arr3x3T)"
   ]
  },
  {
   "cell_type": "code",
   "execution_count": 98,
   "id": "2e1639bd-5d9a-4172-8b81-e1181e5d9006",
   "metadata": {},
   "outputs": [
    {
     "data": {
      "text/plain": [
       "array([1, 5, 8])"
      ]
     },
     "execution_count": 98,
     "metadata": {},
     "output_type": "execute_result"
    }
   ],
   "source": [
    "arrd"
   ]
  }
 ],
 "metadata": {
  "kernelspec": {
   "display_name": "Python 3 (ipykernel)",
   "language": "python",
   "name": "python3"
  },
  "language_info": {
   "codemirror_mode": {
    "name": "ipython",
    "version": 3
   },
   "file_extension": ".py",
   "mimetype": "text/x-python",
   "name": "python",
   "nbconvert_exporter": "python",
   "pygments_lexer": "ipython3",
   "version": "3.11.9"
  }
 },
 "nbformat": 4,
 "nbformat_minor": 5
}
