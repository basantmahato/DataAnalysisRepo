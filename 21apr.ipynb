{
 "cells": [
  {
   "cell_type": "markdown",
   "id": "9b989bfa-901e-4ecc-a54f-90ca31e4dfc8",
   "metadata": {},
   "source": [
    "1. What is the difference bw touples and list "
   ]
  },
  {
   "cell_type": "markdown",
   "id": "5e92114a-b120-4ec0-bb40-155a6ed8441c",
   "metadata": {},
   "source": [
    "List in python are used to store set of data in a squence. in list we can store string float and integer and float values. in list once the data are assigned they can be chnaged durig runtime. simply list are mutable data set."
   ]
  },
  {
   "cell_type": "markdown",
   "id": "b0f07b8d-3222-43f1-9bb6-f62c92a6105a",
   "metadata": {},
   "source": [
    "tuples are same as list but they are immutable. it means once the data inside touples are defined they cannt be changed and touples are used when you want the values to be static."
   ]
  },
  {
   "cell_type": "markdown",
   "id": "a3e3cd77-6df9-4367-bfa6-c438eee790c8",
   "metadata": {},
   "source": [
    "Write a python program to find the maximum of three nums.\n"
   ]
  },
  {
   "cell_type": "code",
   "execution_count": 3,
   "id": "bae977c5-8798-457b-b463-e303de2fff15",
   "metadata": {},
   "outputs": [
    {
     "name": "stdin",
     "output_type": "stream",
     "text": [
      "enter value 8\n",
      "enter value 6\n",
      "enter value 77\n"
     ]
    },
    {
     "name": "stdout",
     "output_type": "stream",
     "text": [
      "c is greater\n"
     ]
    }
   ],
   "source": [
    "a = int(input(\"enter value\"))\n",
    "b = int(input(\"enter value\"))\n",
    "c = int(input(\"enter value\"))\n",
    "\n",
    "if a > b & a > c:\n",
    "    print(\"a is greater\")\n",
    "elif b > c & b> a:\n",
    "    print(\"b is greater\")\n",
    "else:\n",
    "    print( \"c is greater\")\n",
    "    "
   ]
  },
  {
   "cell_type": "code",
   "execution_count": null,
   "id": "9fd4b83c-7d98-4b5d-a7cc-4f632cd4e650",
   "metadata": {},
   "outputs": [],
   "source": [
    "What is funtion in python? Wap to return the  sq of a number "
   ]
  },
  {
   "cell_type": "code",
   "execution_count": 7,
   "id": "9a902234-8b0a-4ffc-bfe9-11e878930443",
   "metadata": {},
   "outputs": [
    {
     "name": "stdin",
     "output_type": "stream",
     "text": [
      "Enter a value to find sq 55\n"
     ]
    },
    {
     "name": "stdout",
     "output_type": "stream",
     "text": [
      "3025\n"
     ]
    }
   ],
   "source": [
    "def function():\n",
    "    a = int(input(\"Enter a value to find sq\"))\n",
    "    square = a*a \n",
    "    print(square)\n",
    "\n",
    "function()    \n",
    "   "
   ]
  },
  {
   "cell_type": "markdown",
   "id": "3c2b7b2c-28d7-4c24-9976-7a02bc6b5e23",
   "metadata": {},
   "source": [
    "Create a numpy array of first 10 multiples of 5 and multipy each no by 2 "
   ]
  },
  {
   "cell_type": "code",
   "execution_count": 10,
   "id": "454a3e87-f8f4-4d50-86ef-e21869efa020",
   "metadata": {},
   "outputs": [],
   "source": [
    "import numpy as np\n",
    "\n",
    "arr = np.arange(11)"
   ]
  },
  {
   "cell_type": "code",
   "execution_count": 11,
   "id": "7a687da1-efa8-4fd7-b8b9-6b5603d962c0",
   "metadata": {},
   "outputs": [
    {
     "data": {
      "text/plain": [
       "array([ 0,  1,  2,  3,  4,  5,  6,  7,  8,  9, 10])"
      ]
     },
     "execution_count": 11,
     "metadata": {},
     "output_type": "execute_result"
    }
   ],
   "source": [
    "arr"
   ]
  },
  {
   "cell_type": "code",
   "execution_count": 17,
   "id": "33e370e3-c34d-42a7-bc4e-47b8ab5680e5",
   "metadata": {},
   "outputs": [],
   "source": [
    "arr1=arr[0:5]"
   ]
  },
  {
   "cell_type": "code",
   "execution_count": 19,
   "id": "5d2e1f4b-b3e9-486b-bd20-c91e554939b7",
   "metadata": {},
   "outputs": [],
   "source": [
    "arr2 = arr1 * 5"
   ]
  },
  {
   "cell_type": "code",
   "execution_count": 20,
   "id": "5cf137d9-82ee-46b5-85cf-43847e55b5c8",
   "metadata": {},
   "outputs": [
    {
     "data": {
      "text/plain": [
       "array([ 0,  5, 10, 15, 20])"
      ]
     },
     "execution_count": 20,
     "metadata": {},
     "output_type": "execute_result"
    }
   ],
   "source": [
    "arr2"
   ]
  },
  {
   "cell_type": "code",
   "execution_count": 21,
   "id": "ed988214-9dec-4291-88f4-0b3067c17057",
   "metadata": {},
   "outputs": [
    {
     "data": {
      "text/plain": [
       "array([ 0. ,  2.5,  5. ,  7.5, 10. ])"
      ]
     },
     "execution_count": 21,
     "metadata": {},
     "output_type": "execute_result"
    }
   ],
   "source": [
    "arr2 / 2"
   ]
  },
  {
   "cell_type": "markdown",
   "id": "6a1e1a89-28c5-4090-b55d-3e22d87f8937",
   "metadata": {},
   "source": [
    "Write the code to create a 3x3 num pay array filled with zeros.\n"
   ]
  },
  {
   "cell_type": "code",
   "execution_count": 30,
   "id": "3dbc6bec-d709-4bcc-a330-8bf448416f2e",
   "metadata": {},
   "outputs": [],
   "source": [
    "import numpy as np \n",
    "arr3x3 = np.array([[1,2,3,4,5],[1,2,3,4,5],[1,2,3,4,5]])"
   ]
  },
  {
   "cell_type": "code",
   "execution_count": 24,
   "id": "57fa272b-c38b-41e0-a34b-3584defb0afc",
   "metadata": {},
   "outputs": [
    {
     "data": {
      "text/plain": [
       "array([[1, 2, 3, 4, 5],\n",
       "       [1, 2, 3, 4, 5],\n",
       "       [1, 2, 3, 4, 5]])"
      ]
     },
     "execution_count": 24,
     "metadata": {},
     "output_type": "execute_result"
    }
   ],
   "source": [
    "arr3x3"
   ]
  },
  {
   "cell_type": "markdown",
   "id": "082a3824-3c28-4830-a47a-852b7716e250",
   "metadata": {},
   "source": [
    "How do you find the mean and stndard deviation of a numpy array "
   ]
  },
  {
   "cell_type": "code",
   "execution_count": 32,
   "id": "c8d805f8-cc75-4028-a959-e5910e850f64",
   "metadata": {},
   "outputs": [],
   "source": [
    "import numpy as np"
   ]
  },
  {
   "cell_type": "code",
   "execution_count": 33,
   "id": "2f487ccf-6d06-4c24-a637-d56969ad3279",
   "metadata": {},
   "outputs": [
    {
     "data": {
      "text/plain": [
       "np.float64(5.0)"
      ]
     },
     "execution_count": 33,
     "metadata": {},
     "output_type": "execute_result"
    }
   ],
   "source": [
    "arr.mean()"
   ]
  },
  {
   "cell_type": "code",
   "execution_count": 34,
   "id": "861d6d61-ca83-469f-8f0b-d59c6be208d7",
   "metadata": {},
   "outputs": [
    {
     "data": {
      "text/plain": [
       "np.float64(3.1622776601683795)"
      ]
     },
     "execution_count": 34,
     "metadata": {},
     "output_type": "execute_result"
    }
   ],
   "source": [
    "arr.std()"
   ]
  },
  {
   "cell_type": "code",
   "execution_count": 35,
   "id": "301b6563-39d4-4385-82dd-0627ae9237e4",
   "metadata": {},
   "outputs": [],
   "source": [
    "arrx = np.array([10,20,30,40,50])"
   ]
  },
  {
   "cell_type": "code",
   "execution_count": 36,
   "id": "68248822-dcc8-491e-a28e-732f562eaf4a",
   "metadata": {},
   "outputs": [],
   "source": [
    "arry = arrx[0:3]"
   ]
  },
  {
   "cell_type": "code",
   "execution_count": 37,
   "id": "553820f1-2c24-4575-9623-8f632b5af8ae",
   "metadata": {},
   "outputs": [
    {
     "data": {
      "text/plain": [
       "array([10, 20, 30])"
      ]
     },
     "execution_count": 37,
     "metadata": {},
     "output_type": "execute_result"
    }
   ],
   "source": [
    "arry"
   ]
  },
  {
   "cell_type": "code",
   "execution_count": 45,
   "id": "9b0a935d-f855-4626-9878-7a84a0604a2b",
   "metadata": {},
   "outputs": [],
   "source": [
    "zeros = np.zeros((3,3))"
   ]
  },
  {
   "cell_type": "code",
   "execution_count": 46,
   "id": "ff9f6f8f-c375-479f-9956-8d77fb86bb42",
   "metadata": {},
   "outputs": [
    {
     "data": {
      "text/plain": [
       "array([[0., 0., 0.],\n",
       "       [0., 0., 0.],\n",
       "       [0., 0., 0.]])"
      ]
     },
     "execution_count": 46,
     "metadata": {},
     "output_type": "execute_result"
    }
   ],
   "source": [
    "zeros"
   ]
  },
  {
   "cell_type": "code",
   "execution_count": 47,
   "id": "4901356f-fe63-4a55-aab6-7bfdcdacf73c",
   "metadata": {},
   "outputs": [],
   "source": [
    "import pandas as pd "
   ]
  },
  {
   "cell_type": "code",
   "execution_count": 49,
   "id": "b2610472-81a0-4f7c-ade8-bc8785010b10",
   "metadata": {},
   "outputs": [],
   "source": [
    "df = pd.read_csv(\"student_scores.csv\")"
   ]
  },
  {
   "cell_type": "code",
   "execution_count": 50,
   "id": "fb77e3e2-e781-4ded-8b5c-f7767bea1801",
   "metadata": {},
   "outputs": [
    {
     "data": {
      "text/html": [
       "<div>\n",
       "<style scoped>\n",
       "    .dataframe tbody tr th:only-of-type {\n",
       "        vertical-align: middle;\n",
       "    }\n",
       "\n",
       "    .dataframe tbody tr th {\n",
       "        vertical-align: top;\n",
       "    }\n",
       "\n",
       "    .dataframe thead th {\n",
       "        text-align: right;\n",
       "    }\n",
       "</style>\n",
       "<table border=\"1\" class=\"dataframe\">\n",
       "  <thead>\n",
       "    <tr style=\"text-align: right;\">\n",
       "      <th></th>\n",
       "      <th>StudentID</th>\n",
       "      <th>Name</th>\n",
       "      <th>Subject</th>\n",
       "      <th>Marks</th>\n",
       "      <th>Age</th>\n",
       "      <th>Grade</th>\n",
       "    </tr>\n",
       "  </thead>\n",
       "  <tbody>\n",
       "    <tr>\n",
       "      <th>0</th>\n",
       "      <td>1</td>\n",
       "      <td>Alice</td>\n",
       "      <td>Math</td>\n",
       "      <td>85</td>\n",
       "      <td>20</td>\n",
       "      <td>B</td>\n",
       "    </tr>\n",
       "    <tr>\n",
       "      <th>1</th>\n",
       "      <td>2</td>\n",
       "      <td>Bob</td>\n",
       "      <td>Science</td>\n",
       "      <td>78</td>\n",
       "      <td>21</td>\n",
       "      <td>C</td>\n",
       "    </tr>\n",
       "    <tr>\n",
       "      <th>2</th>\n",
       "      <td>3</td>\n",
       "      <td>Charlie</td>\n",
       "      <td>Math</td>\n",
       "      <td>92</td>\n",
       "      <td>19</td>\n",
       "      <td>A</td>\n",
       "    </tr>\n",
       "    <tr>\n",
       "      <th>3</th>\n",
       "      <td>4</td>\n",
       "      <td>David</td>\n",
       "      <td>Science</td>\n",
       "      <td>68</td>\n",
       "      <td>22</td>\n",
       "      <td>D</td>\n",
       "    </tr>\n",
       "    <tr>\n",
       "      <th>4</th>\n",
       "      <td>5</td>\n",
       "      <td>Eva</td>\n",
       "      <td>Math</td>\n",
       "      <td>74</td>\n",
       "      <td>20</td>\n",
       "      <td>C</td>\n",
       "    </tr>\n",
       "    <tr>\n",
       "      <th>5</th>\n",
       "      <td>6</td>\n",
       "      <td>Frank</td>\n",
       "      <td>Science</td>\n",
       "      <td>88</td>\n",
       "      <td>23</td>\n",
       "      <td>B</td>\n",
       "    </tr>\n",
       "  </tbody>\n",
       "</table>\n",
       "</div>"
      ],
      "text/plain": [
       "   StudentID     Name  Subject  Marks  Age Grade\n",
       "0          1    Alice     Math     85   20     B\n",
       "1          2      Bob  Science     78   21     C\n",
       "2          3  Charlie     Math     92   19     A\n",
       "3          4    David  Science     68   22     D\n",
       "4          5      Eva     Math     74   20     C\n",
       "5          6    Frank  Science     88   23     B"
      ]
     },
     "execution_count": 50,
     "metadata": {},
     "output_type": "execute_result"
    }
   ],
   "source": [
    "df"
   ]
  },
  {
   "cell_type": "code",
   "execution_count": 51,
   "id": "26d5919a-a7ca-43c7-a1eb-701ffcdca2c8",
   "metadata": {},
   "outputs": [
    {
     "data": {
      "text/html": [
       "<div>\n",
       "<style scoped>\n",
       "    .dataframe tbody tr th:only-of-type {\n",
       "        vertical-align: middle;\n",
       "    }\n",
       "\n",
       "    .dataframe tbody tr th {\n",
       "        vertical-align: top;\n",
       "    }\n",
       "\n",
       "    .dataframe thead th {\n",
       "        text-align: right;\n",
       "    }\n",
       "</style>\n",
       "<table border=\"1\" class=\"dataframe\">\n",
       "  <thead>\n",
       "    <tr style=\"text-align: right;\">\n",
       "      <th></th>\n",
       "      <th>StudentID</th>\n",
       "      <th>Name</th>\n",
       "      <th>Subject</th>\n",
       "      <th>Marks</th>\n",
       "      <th>Age</th>\n",
       "      <th>Grade</th>\n",
       "    </tr>\n",
       "  </thead>\n",
       "  <tbody>\n",
       "    <tr>\n",
       "      <th>0</th>\n",
       "      <td>1</td>\n",
       "      <td>Alice</td>\n",
       "      <td>Math</td>\n",
       "      <td>85</td>\n",
       "      <td>20</td>\n",
       "      <td>B</td>\n",
       "    </tr>\n",
       "    <tr>\n",
       "      <th>1</th>\n",
       "      <td>2</td>\n",
       "      <td>Bob</td>\n",
       "      <td>Science</td>\n",
       "      <td>78</td>\n",
       "      <td>21</td>\n",
       "      <td>C</td>\n",
       "    </tr>\n",
       "    <tr>\n",
       "      <th>2</th>\n",
       "      <td>3</td>\n",
       "      <td>Charlie</td>\n",
       "      <td>Math</td>\n",
       "      <td>92</td>\n",
       "      <td>19</td>\n",
       "      <td>A</td>\n",
       "    </tr>\n",
       "  </tbody>\n",
       "</table>\n",
       "</div>"
      ],
      "text/plain": [
       "   StudentID     Name  Subject  Marks  Age Grade\n",
       "0          1    Alice     Math     85   20     B\n",
       "1          2      Bob  Science     78   21     C\n",
       "2          3  Charlie     Math     92   19     A"
      ]
     },
     "execution_count": 51,
     "metadata": {},
     "output_type": "execute_result"
    }
   ],
   "source": [
    "df.head(3)"
   ]
  },
  {
   "cell_type": "code",
   "execution_count": 53,
   "id": "80f82291-0967-475c-893c-d02057c20660",
   "metadata": {},
   "outputs": [],
   "source": [
    "marks = df[\"Marks\"]"
   ]
  },
  {
   "cell_type": "code",
   "execution_count": 54,
   "id": "1bd86365-c7e5-4d3f-b7bc-eeba1a5baf18",
   "metadata": {},
   "outputs": [
    {
     "data": {
      "text/plain": [
       "np.float64(80.83333333333333)"
      ]
     },
     "execution_count": 54,
     "metadata": {},
     "output_type": "execute_result"
    }
   ],
   "source": [
    "marks.mean()"
   ]
  },
  {
   "cell_type": "code",
   "execution_count": 65,
   "id": "bf0d6280-ce65-46a5-b259-f11b406cc2e0",
   "metadata": {},
   "outputs": [],
   "source": [
    "marks2 = df[df['Marks']>=80]"
   ]
  },
  {
   "cell_type": "code",
   "execution_count": 66,
   "id": "4842fd93-1524-468b-a657-26872343ec22",
   "metadata": {},
   "outputs": [
    {
     "data": {
      "text/html": [
       "<div>\n",
       "<style scoped>\n",
       "    .dataframe tbody tr th:only-of-type {\n",
       "        vertical-align: middle;\n",
       "    }\n",
       "\n",
       "    .dataframe tbody tr th {\n",
       "        vertical-align: top;\n",
       "    }\n",
       "\n",
       "    .dataframe thead th {\n",
       "        text-align: right;\n",
       "    }\n",
       "</style>\n",
       "<table border=\"1\" class=\"dataframe\">\n",
       "  <thead>\n",
       "    <tr style=\"text-align: right;\">\n",
       "      <th></th>\n",
       "      <th>StudentID</th>\n",
       "      <th>Name</th>\n",
       "      <th>Subject</th>\n",
       "      <th>Marks</th>\n",
       "      <th>Age</th>\n",
       "      <th>Grade</th>\n",
       "    </tr>\n",
       "  </thead>\n",
       "  <tbody>\n",
       "    <tr>\n",
       "      <th>0</th>\n",
       "      <td>1</td>\n",
       "      <td>Alice</td>\n",
       "      <td>Math</td>\n",
       "      <td>85</td>\n",
       "      <td>20</td>\n",
       "      <td>B</td>\n",
       "    </tr>\n",
       "    <tr>\n",
       "      <th>2</th>\n",
       "      <td>3</td>\n",
       "      <td>Charlie</td>\n",
       "      <td>Math</td>\n",
       "      <td>92</td>\n",
       "      <td>19</td>\n",
       "      <td>A</td>\n",
       "    </tr>\n",
       "    <tr>\n",
       "      <th>5</th>\n",
       "      <td>6</td>\n",
       "      <td>Frank</td>\n",
       "      <td>Science</td>\n",
       "      <td>88</td>\n",
       "      <td>23</td>\n",
       "      <td>B</td>\n",
       "    </tr>\n",
       "  </tbody>\n",
       "</table>\n",
       "</div>"
      ],
      "text/plain": [
       "   StudentID     Name  Subject  Marks  Age Grade\n",
       "0          1    Alice     Math     85   20     B\n",
       "2          3  Charlie     Math     92   19     A\n",
       "5          6    Frank  Science     88   23     B"
      ]
     },
     "execution_count": 66,
     "metadata": {},
     "output_type": "execute_result"
    }
   ],
   "source": [
    "marks2"
   ]
  },
  {
   "cell_type": "code",
   "execution_count": 57,
   "id": "05180785-3cbf-45a5-a422-c2ac16879350",
   "metadata": {},
   "outputs": [],
   "source": [
    "subject = df['Subject']"
   ]
  },
  {
   "cell_type": "code",
   "execution_count": 58,
   "id": "00e11b09-6205-4c5d-930b-c866904d69e8",
   "metadata": {},
   "outputs": [
    {
     "data": {
      "text/plain": [
       "0       Math\n",
       "1    Science\n",
       "2       Math\n",
       "3    Science\n",
       "4       Math\n",
       "5    Science\n",
       "Name: Subject, dtype: object"
      ]
     },
     "execution_count": 58,
     "metadata": {},
     "output_type": "execute_result"
    }
   ],
   "source": [
    "subject"
   ]
  },
  {
   "cell_type": "code",
   "execution_count": 94,
   "id": "82517adf-9be5-45e4-b56e-318197584edc",
   "metadata": {},
   "outputs": [
    {
     "data": {
      "text/html": [
       "<div>\n",
       "<style scoped>\n",
       "    .dataframe tbody tr th:only-of-type {\n",
       "        vertical-align: middle;\n",
       "    }\n",
       "\n",
       "    .dataframe tbody tr th {\n",
       "        vertical-align: top;\n",
       "    }\n",
       "\n",
       "    .dataframe thead th {\n",
       "        text-align: right;\n",
       "    }\n",
       "</style>\n",
       "<table border=\"1\" class=\"dataframe\">\n",
       "  <thead>\n",
       "    <tr style=\"text-align: right;\">\n",
       "      <th></th>\n",
       "      <th>StudentID</th>\n",
       "      <th>Name</th>\n",
       "      <th>Subject</th>\n",
       "      <th>Marks</th>\n",
       "      <th>Age</th>\n",
       "      <th>Grade</th>\n",
       "      <th>Pass1/Fail1</th>\n",
       "      <th>Pass1/Fail</th>\n",
       "      <th>Pass/Fail</th>\n",
       "      <th>Pass/fail</th>\n",
       "      <th>Pass/fail</th>\n",
       "    </tr>\n",
       "  </thead>\n",
       "  <tbody>\n",
       "    <tr>\n",
       "      <th>0</th>\n",
       "      <td>1</td>\n",
       "      <td>Alice</td>\n",
       "      <td>Math</td>\n",
       "      <td>85</td>\n",
       "      <td>20</td>\n",
       "      <td>B</td>\n",
       "      <td>2</td>\n",
       "      <td>2</td>\n",
       "      <td>2</td>\n",
       "      <td>fail</td>\n",
       "      <td>Pass</td>\n",
       "    </tr>\n",
       "    <tr>\n",
       "      <th>1</th>\n",
       "      <td>2</td>\n",
       "      <td>Bob</td>\n",
       "      <td>Science</td>\n",
       "      <td>78</td>\n",
       "      <td>21</td>\n",
       "      <td>C</td>\n",
       "      <td>2</td>\n",
       "      <td>2</td>\n",
       "      <td>2</td>\n",
       "      <td>fail</td>\n",
       "      <td>Pass</td>\n",
       "    </tr>\n",
       "    <tr>\n",
       "      <th>2</th>\n",
       "      <td>3</td>\n",
       "      <td>Charlie</td>\n",
       "      <td>Math</td>\n",
       "      <td>92</td>\n",
       "      <td>19</td>\n",
       "      <td>A</td>\n",
       "      <td>3</td>\n",
       "      <td>3</td>\n",
       "      <td>3</td>\n",
       "      <td>fail</td>\n",
       "      <td>Pass</td>\n",
       "    </tr>\n",
       "    <tr>\n",
       "      <th>3</th>\n",
       "      <td>4</td>\n",
       "      <td>David</td>\n",
       "      <td>Science</td>\n",
       "      <td>68</td>\n",
       "      <td>22</td>\n",
       "      <td>D</td>\n",
       "      <td>4</td>\n",
       "      <td>4</td>\n",
       "      <td>4</td>\n",
       "      <td>fail</td>\n",
       "      <td>NaN</td>\n",
       "    </tr>\n",
       "    <tr>\n",
       "      <th>4</th>\n",
       "      <td>5</td>\n",
       "      <td>Eva</td>\n",
       "      <td>Math</td>\n",
       "      <td>74</td>\n",
       "      <td>20</td>\n",
       "      <td>C</td>\n",
       "      <td>6</td>\n",
       "      <td>6</td>\n",
       "      <td>6</td>\n",
       "      <td>fail</td>\n",
       "      <td>NaN</td>\n",
       "    </tr>\n",
       "    <tr>\n",
       "      <th>5</th>\n",
       "      <td>6</td>\n",
       "      <td>Frank</td>\n",
       "      <td>Science</td>\n",
       "      <td>88</td>\n",
       "      <td>23</td>\n",
       "      <td>B</td>\n",
       "      <td>5</td>\n",
       "      <td>5</td>\n",
       "      <td>5</td>\n",
       "      <td>fail</td>\n",
       "      <td>Pass</td>\n",
       "    </tr>\n",
       "  </tbody>\n",
       "</table>\n",
       "</div>"
      ],
      "text/plain": [
       "   StudentID     Name  Subject  Marks  Age Grade  Pass1/Fail1  Pass1/Fail  \\\n",
       "0          1    Alice     Math     85   20     B            2           2   \n",
       "1          2      Bob  Science     78   21     C            2           2   \n",
       "2          3  Charlie     Math     92   19     A            3           3   \n",
       "3          4    David  Science     68   22     D            4           4   \n",
       "4          5      Eva     Math     74   20     C            6           6   \n",
       "5          6    Frank  Science     88   23     B            5           5   \n",
       "\n",
       "   Pass/Fail Pass/fail  Pass/fail  \n",
       "0          2       fail      Pass  \n",
       "1          2       fail      Pass  \n",
       "2          3       fail      Pass  \n",
       "3          4       fail       NaN  \n",
       "4          6       fail       NaN  \n",
       "5          5       fail      Pass  "
      ]
     },
     "execution_count": 94,
     "metadata": {},
     "output_type": "execute_result"
    }
   ],
   "source": [
    "df['Pass/fail ']='fail'\n",
    "df.loc[df['Marks']>=75,'Pass/fail'] = 'Pass'\n",
    "df"
   ]
  },
  {
   "cell_type": "code",
   "execution_count": 97,
   "id": "db0a4e6e-59d0-4c76-8fe1-6ad208969df9",
   "metadata": {},
   "outputs": [],
   "source": [
    "df.drop(\"Pass/Fail\" ,axis= 1 ,inplace = True)"
   ]
  },
  {
   "cell_type": "code",
   "execution_count": 98,
   "id": "7105da33-cf94-4dc7-b930-9016cc5c00f7",
   "metadata": {},
   "outputs": [],
   "source": [
    "df.drop(\"Pass1/Fail\" ,axis= 1,inplace = True)"
   ]
  },
  {
   "cell_type": "code",
   "execution_count": 83,
   "id": "df13b82b-9094-4c5a-b472-c301a44aee80",
   "metadata": {},
   "outputs": [],
   "source": [
    "asc = marks.sort_values(ascending = False)"
   ]
  },
  {
   "cell_type": "code",
   "execution_count": 103,
   "id": "9148b508-24db-466d-9cad-971c9b8440f9",
   "metadata": {},
   "outputs": [
    {
     "data": {
      "text/html": [
       "<div>\n",
       "<style scoped>\n",
       "    .dataframe tbody tr th:only-of-type {\n",
       "        vertical-align: middle;\n",
       "    }\n",
       "\n",
       "    .dataframe tbody tr th {\n",
       "        vertical-align: top;\n",
       "    }\n",
       "\n",
       "    .dataframe thead th {\n",
       "        text-align: right;\n",
       "    }\n",
       "</style>\n",
       "<table border=\"1\" class=\"dataframe\">\n",
       "  <thead>\n",
       "    <tr style=\"text-align: right;\">\n",
       "      <th></th>\n",
       "      <th>StudentID</th>\n",
       "      <th>Name</th>\n",
       "      <th>Subject</th>\n",
       "      <th>Marks</th>\n",
       "      <th>Age</th>\n",
       "      <th>Grade</th>\n",
       "      <th>Pass/fail</th>\n",
       "      <th>Pass/fail</th>\n",
       "    </tr>\n",
       "  </thead>\n",
       "  <tbody>\n",
       "    <tr>\n",
       "      <th>0</th>\n",
       "      <td>1</td>\n",
       "      <td>Alice</td>\n",
       "      <td>Math</td>\n",
       "      <td>85</td>\n",
       "      <td>20</td>\n",
       "      <td>B</td>\n",
       "      <td>fail</td>\n",
       "      <td>Pass</td>\n",
       "    </tr>\n",
       "    <tr>\n",
       "      <th>1</th>\n",
       "      <td>2</td>\n",
       "      <td>Bob</td>\n",
       "      <td>Science</td>\n",
       "      <td>78</td>\n",
       "      <td>21</td>\n",
       "      <td>C</td>\n",
       "      <td>fail</td>\n",
       "      <td>Pass</td>\n",
       "    </tr>\n",
       "    <tr>\n",
       "      <th>2</th>\n",
       "      <td>3</td>\n",
       "      <td>Charlie</td>\n",
       "      <td>Math</td>\n",
       "      <td>92</td>\n",
       "      <td>19</td>\n",
       "      <td>A</td>\n",
       "      <td>fail</td>\n",
       "      <td>Pass</td>\n",
       "    </tr>\n",
       "    <tr>\n",
       "      <th>3</th>\n",
       "      <td>4</td>\n",
       "      <td>David</td>\n",
       "      <td>Science</td>\n",
       "      <td>68</td>\n",
       "      <td>22</td>\n",
       "      <td>D</td>\n",
       "      <td>fail</td>\n",
       "      <td>NaN</td>\n",
       "    </tr>\n",
       "    <tr>\n",
       "      <th>4</th>\n",
       "      <td>5</td>\n",
       "      <td>Eva</td>\n",
       "      <td>Math</td>\n",
       "      <td>74</td>\n",
       "      <td>20</td>\n",
       "      <td>C</td>\n",
       "      <td>fail</td>\n",
       "      <td>NaN</td>\n",
       "    </tr>\n",
       "    <tr>\n",
       "      <th>5</th>\n",
       "      <td>6</td>\n",
       "      <td>Frank</td>\n",
       "      <td>Science</td>\n",
       "      <td>88</td>\n",
       "      <td>23</td>\n",
       "      <td>B</td>\n",
       "      <td>fail</td>\n",
       "      <td>Pass</td>\n",
       "    </tr>\n",
       "  </tbody>\n",
       "</table>\n",
       "</div>"
      ],
      "text/plain": [
       "   StudentID     Name  Subject  Marks  Age Grade Pass/fail  Pass/fail\n",
       "0          1    Alice     Math     85   20     B       fail      Pass\n",
       "1          2      Bob  Science     78   21     C       fail      Pass\n",
       "2          3  Charlie     Math     92   19     A       fail      Pass\n",
       "3          4    David  Science     68   22     D       fail       NaN\n",
       "4          5      Eva     Math     74   20     C       fail       NaN\n",
       "5          6    Frank  Science     88   23     B       fail      Pass"
      ]
     },
     "execution_count": 103,
     "metadata": {},
     "output_type": "execute_result"
    }
   ],
   "source": [
    "df"
   ]
  },
  {
   "cell_type": "code",
   "execution_count": null,
   "id": "fbacba25-f837-4b45-8668-063b36f008ce",
   "metadata": {},
   "outputs": [],
   "source": []
  }
 ],
 "metadata": {
  "kernelspec": {
   "display_name": "Python 3 (ipykernel)",
   "language": "python",
   "name": "python3"
  },
  "language_info": {
   "codemirror_mode": {
    "name": "ipython",
    "version": 3
   },
   "file_extension": ".py",
   "mimetype": "text/x-python",
   "name": "python",
   "nbconvert_exporter": "python",
   "pygments_lexer": "ipython3",
   "version": "3.11.9"
  }
 },
 "nbformat": 4,
 "nbformat_minor": 5
}
