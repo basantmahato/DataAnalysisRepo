{
 "cells": [
  {
   "cell_type": "markdown",
   "id": "756143f5-3c2e-4a0b-8104-2a526296066e",
   "metadata": {},
   "source": [
    "What is the use of numpy random array..."
   ]
  },
  {
   "cell_type": "markdown",
   "id": "167c4d36-87dc-4653-97d5-56ddd3d5514e",
   "metadata": {},
   "source": [
    "ranom is a funtion in python numpy module or libraray which is used to generate random number between a range and the occurance of numbers can be also defined ."
   ]
  },
  {
   "cell_type": "code",
   "execution_count": 3,
   "id": "9815f47a-45c2-4f8e-b6c7-ba2f71b8d5b9",
   "metadata": {},
   "outputs": [],
   "source": [
    "import numpy as np \n",
    "import random "
   ]
  },
  {
   "cell_type": "code",
   "execution_count": 20,
   "id": "abe88fef-94ec-4545-9143-1a790f2ffda5",
   "metadata": {},
   "outputs": [],
   "source": [
    "x = np.random.randint(0, 10, size=10)  "
   ]
  },
  {
   "cell_type": "code",
   "execution_count": 21,
   "id": "5110cbfa-39a9-4301-9268-bb710e420df4",
   "metadata": {},
   "outputs": [
    {
     "data": {
      "text/plain": [
       "array([4, 7, 7, 0, 9, 2, 3, 0, 4, 1], dtype=int32)"
      ]
     },
     "execution_count": 21,
     "metadata": {},
     "output_type": "execute_result"
    }
   ],
   "source": [
    "x"
   ]
  },
  {
   "cell_type": "code",
   "execution_count": 18,
   "id": "db4a0906-41ca-44ed-9df9-98c000a1ada1",
   "metadata": {},
   "outputs": [],
   "source": [
    " y = np.random.rand(10)"
   ]
  },
  {
   "cell_type": "code",
   "execution_count": 19,
   "id": "14683599-ecdf-4f0d-9e6a-0a9c46075079",
   "metadata": {},
   "outputs": [
    {
     "data": {
      "text/plain": [
       "array([0.95758582, 0.10372476, 0.31632635, 0.36109154, 0.86009059,\n",
       "       0.04782105, 0.8914901 , 0.75499014, 0.27595958, 0.0426541 ])"
      ]
     },
     "execution_count": 19,
     "metadata": {},
     "output_type": "execute_result"
    }
   ],
   "source": [
    "y"
   ]
  },
  {
   "cell_type": "markdown",
   "id": "b8a36af6-6d3a-4b1a-a1a1-9cad8b1bdc6b",
   "metadata": {},
   "source": [
    "Q whats the diferece bw randint() and rand()"
   ]
  },
  {
   "cell_type": "markdown",
   "id": "cbbf67bd-0438-4b41-907f-f350106cea35",
   "metadata": {},
   "source": [
    "randint() funtion is used to generate random number in numpy array"
   ]
  },
  {
   "cell_type": "markdown",
   "id": "7b49a82e-4a40-4675-ba8e-a191043cb20d",
   "metadata": {},
   "source": [
    "rand() funtion is used to generate random decimal values in numpy araay"
   ]
  },
  {
   "cell_type": "code",
   "execution_count": 28,
   "id": "01577ff0-03ad-4db2-b1a1-362b4830eec1",
   "metadata": {},
   "outputs": [],
   "source": [
    "s = np.random.shuffle(x)"
   ]
  },
  {
   "cell_type": "code",
   "execution_count": 31,
   "id": "fe6b25f5-53b7-4faf-839a-66b785cebdcf",
   "metadata": {},
   "outputs": [],
   "source": [
    "s"
   ]
  },
  {
   "cell_type": "code",
   "execution_count": 27,
   "id": "8a0a951c-8364-4510-a593-d0e1e2104920",
   "metadata": {},
   "outputs": [
    {
     "data": {
      "text/plain": [
       "array([0, 7, 4, 1, 0, 2, 4, 3, 9, 7], dtype=int32)"
      ]
     },
     "execution_count": 27,
     "metadata": {},
     "output_type": "execute_result"
    }
   ],
   "source": [
    "x"
   ]
  },
  {
   "cell_type": "code",
   "execution_count": 34,
   "id": "616af64e-993a-4e11-ac26-14aafd8de748",
   "metadata": {},
   "outputs": [],
   "source": [
    "z = np.array([1,2,3,4,5,6,7,8,9])"
   ]
  },
  {
   "cell_type": "code",
   "execution_count": 35,
   "id": "bae9560d-2dd5-49a9-bda1-3c99d5e1b951",
   "metadata": {},
   "outputs": [
    {
     "data": {
      "text/plain": [
       "array([1, 2, 3, 4, 5, 6, 7, 8, 9])"
      ]
     },
     "execution_count": 35,
     "metadata": {},
     "output_type": "execute_result"
    }
   ],
   "source": [
    "z"
   ]
  },
  {
   "cell_type": "code",
   "execution_count": 39,
   "id": "3058a975-1921-49e9-a03a-804fd574a129",
   "metadata": {},
   "outputs": [],
   "source": [
    "np.random.shuffle(z)"
   ]
  },
  {
   "cell_type": "code",
   "execution_count": 40,
   "id": "d445e238-ecfa-42f8-bce0-9cea347c06b9",
   "metadata": {},
   "outputs": [
    {
     "data": {
      "text/plain": [
       "array([3, 9, 2, 8, 6, 7, 1, 4, 5])"
      ]
     },
     "execution_count": 40,
     "metadata": {},
     "output_type": "execute_result"
    }
   ],
   "source": [
    "z"
   ]
  },
  {
   "cell_type": "code",
   "execution_count": 41,
   "id": "673dda7b-cef1-42e6-a587-61b567de27f8",
   "metadata": {},
   "outputs": [],
   "source": [
    "sh = np.random.permutation(z)"
   ]
  },
  {
   "cell_type": "code",
   "execution_count": 42,
   "id": "6fc1920f-c172-485a-9131-fda69ff80cbe",
   "metadata": {},
   "outputs": [
    {
     "data": {
      "text/plain": [
       "array([5, 6, 4, 1, 8, 2, 7, 3, 9])"
      ]
     },
     "execution_count": 42,
     "metadata": {},
     "output_type": "execute_result"
    }
   ],
   "source": [
    "sh"
   ]
  },
  {
   "cell_type": "markdown",
   "id": "2f2ec980-045b-4c5b-8c2e-b463fe2ed918",
   "metadata": {},
   "source": [
    "Q diffrence bw permutation and shuffle \n",
    "\n",
    "\n",
    "permutaion() fution is used to store the shuffled data in a new variable but shuffle() funtion does the changes in orignal array      "
   ]
  },
  {
   "cell_type": "code",
   "execution_count": 47,
   "id": "13f1b95e-ce36-470b-8309-991a7eef01b2",
   "metadata": {},
   "outputs": [
    {
     "data": {
      "text/plain": [
       "array([ 7.83277178,  3.8829684 ,  5.35055821, -3.24401007,  0.48081278,\n",
       "        0.73785294,  6.93116269,  2.53159327, -7.83379654,  4.90980523])"
      ]
     },
     "execution_count": 47,
     "metadata": {},
     "output_type": "execute_result"
    }
   ],
   "source": [
    "np.random.normal(0, 5, 10) "
   ]
  },
  {
   "cell_type": "code",
   "execution_count": 48,
   "id": "2c63b0fb-d261-4d24-ab25-4676be803b3e",
   "metadata": {},
   "outputs": [
    {
     "data": {
      "text/plain": [
       "array([1.6406644 , 6.91274522, 7.99669794, 4.46189107, 2.58323673,\n",
       "       3.44066352, 4.37817749, 8.61344284, 7.40123073, 6.14918216])"
      ]
     },
     "execution_count": 48,
     "metadata": {},
     "output_type": "execute_result"
    }
   ],
   "source": [
    "np.random.normal(5, 2, 10) "
   ]
  },
  {
   "cell_type": "code",
   "execution_count": null,
   "id": "fbda8a19-ffce-49c1-9602-1987627b6b1c",
   "metadata": {},
   "outputs": [],
   "source": []
  }
 ],
 "metadata": {
  "kernelspec": {
   "display_name": "Python 3 (ipykernel)",
   "language": "python",
   "name": "python3"
  },
  "language_info": {
   "codemirror_mode": {
    "name": "ipython",
    "version": 3
   },
   "file_extension": ".py",
   "mimetype": "text/x-python",
   "name": "python",
   "nbconvert_exporter": "python",
   "pygments_lexer": "ipython3",
   "version": "3.11.9"
  }
 },
 "nbformat": 4,
 "nbformat_minor": 5
}
