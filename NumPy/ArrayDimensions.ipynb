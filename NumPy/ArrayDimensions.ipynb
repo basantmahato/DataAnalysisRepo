{
 "cells": [
  {
   "cell_type": "markdown",
   "id": "2389722f-fca6-451f-846d-58628395a55c",
   "metadata": {},
   "source": [
    "0D Arrays"
   ]
  },
  {
   "cell_type": "code",
   "execution_count": 1,
   "id": "8f28ea48-1a25-4b2a-a00c-87068549ef3f",
   "metadata": {},
   "outputs": [
    {
     "name": "stdout",
     "output_type": "stream",
     "text": [
      "42\n"
     ]
    }
   ],
   "source": [
    "import numpy as np\n",
    "\n",
    "arr = np.array(42)\n",
    "\n",
    "print(arr)"
   ]
  },
  {
   "cell_type": "code",
   "execution_count": 3,
   "id": "fca09726-e427-4762-90cb-da209a7725b5",
   "metadata": {},
   "outputs": [
    {
     "name": "stdout",
     "output_type": "stream",
     "text": [
      "[1 2 3 4 5]\n"
     ]
    }
   ],
   "source": [
    "import numpy as np\n",
    "\n",
    "oned = np.array([1, 2, 3, 4, 5])\n",
    "\n",
    "print(oned)"
   ]
  },
  {
   "cell_type": "code",
   "execution_count": 4,
   "id": "3a7f97a3-9bec-4e5d-ad12-a0c57fa120b9",
   "metadata": {},
   "outputs": [
    {
     "name": "stdout",
     "output_type": "stream",
     "text": [
      "[[1 2 3]\n",
      " [4 5 6]]\n"
     ]
    }
   ],
   "source": [
    "import numpy as np\n",
    "\n",
    "twod = np.array([[1, 2, 3], [4, 5, 6]])\n",
    "\n",
    "print(twod)"
   ]
  },
  {
   "cell_type": "code",
   "execution_count": 5,
   "id": "ee1d43ba-e855-447a-8f86-c781926694f2",
   "metadata": {},
   "outputs": [
    {
     "name": "stdout",
     "output_type": "stream",
     "text": [
      "[[[1 2 3]\n",
      "  [4 5 6]]\n",
      "\n",
      " [[1 2 3]\n",
      "  [4 5 6]]]\n"
     ]
    }
   ],
   "source": [
    "import numpy as np\n",
    "\n",
    "threed = np.array([[[1, 2, 3], [4, 5, 6]], [[1, 2, 3], [4, 5, 6]]])\n",
    "\n",
    "print(threed)"
   ]
  },
  {
   "cell_type": "code",
   "execution_count": 6,
   "id": "6d7f15ae-482b-44ab-bc43-c44083f7fcb9",
   "metadata": {},
   "outputs": [
    {
     "name": "stdout",
     "output_type": "stream",
     "text": [
      "0\n"
     ]
    }
   ],
   "source": [
    "print(arr.ndim)"
   ]
  },
  {
   "cell_type": "code",
   "execution_count": 7,
   "id": "9a72d870-63bd-4daf-8a9c-8c37f496d458",
   "metadata": {},
   "outputs": [
    {
     "name": "stdout",
     "output_type": "stream",
     "text": [
      "1\n"
     ]
    }
   ],
   "source": [
    "print(oned.ndim)"
   ]
  },
  {
   "cell_type": "code",
   "execution_count": 8,
   "id": "b16c31d2-1952-478c-a787-83a8a1286b85",
   "metadata": {},
   "outputs": [
    {
     "name": "stdout",
     "output_type": "stream",
     "text": [
      "2\n"
     ]
    }
   ],
   "source": [
    "print(twod.ndim)"
   ]
  },
  {
   "cell_type": "code",
   "execution_count": 9,
   "id": "de19a23e-fe03-4aea-99cd-206722c3c637",
   "metadata": {},
   "outputs": [
    {
     "name": "stdout",
     "output_type": "stream",
     "text": [
      "3\n"
     ]
    }
   ],
   "source": [
    "print(threed.ndim)"
   ]
  },
  {
   "cell_type": "code",
   "execution_count": 10,
   "id": "ad2f4271-13f1-4f9e-b58a-f7e6de878471",
   "metadata": {},
   "outputs": [
    {
     "name": "stdout",
     "output_type": "stream",
     "text": [
      "[[[[[1 2 3 4]]]]]\n",
      "number of dimensions : 5\n"
     ]
    }
   ],
   "source": [
    "import numpy as np\n",
    "\n",
    "arr2 = np.array([1, 2, 3, 4], ndmin=5)\n",
    "\n",
    "print(arr2)\n",
    "print('number of dimensions :', arr2.ndim)"
   ]
  },
  {
   "cell_type": "code",
   "execution_count": null,
   "id": "6f1e3a8e-9cbf-44e1-957f-87f692ff282e",
   "metadata": {},
   "outputs": [],
   "source": []
  }
 ],
 "metadata": {
  "kernelspec": {
   "display_name": "Python 3 (ipykernel)",
   "language": "python",
   "name": "python3"
  },
  "language_info": {
   "codemirror_mode": {
    "name": "ipython",
    "version": 3
   },
   "file_extension": ".py",
   "mimetype": "text/x-python",
   "name": "python",
   "nbconvert_exporter": "python",
   "pygments_lexer": "ipython3",
   "version": "3.11.9"
  }
 },
 "nbformat": 4,
 "nbformat_minor": 5
}
