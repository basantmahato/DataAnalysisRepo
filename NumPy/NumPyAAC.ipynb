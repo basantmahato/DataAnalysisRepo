{
 "cells": [
  {
   "cell_type": "code",
   "execution_count": 1,
   "id": "68948946-546b-4781-82d5-f45b83b50eec",
   "metadata": {},
   "outputs": [
    {
     "name": "stdout",
     "output_type": "stream",
     "text": [
      "[1 2 3 4 5]\n"
     ]
    }
   ],
   "source": [
    "import numpy as np \n",
    "arr =np.array([1,2,3,4,5])\n",
    "print (arr)"
   ]
  },
  {
   "cell_type": "code",
   "execution_count": 4,
   "id": "1d57d053-87b2-41e2-b0d6-5ce512a2dbd0",
   "metadata": {},
   "outputs": [
    {
     "name": "stdout",
     "output_type": "stream",
     "text": [
      "shape of arry (5,)\n"
     ]
    }
   ],
   "source": [
    "print(\"shape of arry\",arr.shape)"
   ]
  },
  {
   "cell_type": "code",
   "execution_count": 5,
   "id": "73adca7d-d7ef-4bb5-aa1e-9ef2858ba95e",
   "metadata": {},
   "outputs": [
    {
     "name": "stdout",
     "output_type": "stream",
     "text": [
      "[[1 2 3 4 5]\n",
      " [1 2 3 4 5]]\n"
     ]
    }
   ],
   "source": [
    "arr2=np.array([[1,2,3,4,5],[1,2,3,4,5]])\n",
    "print (arr2)"
   ]
  },
  {
   "cell_type": "code",
   "execution_count": 7,
   "id": "9e847e1f-eb3d-4b96-a440-3b757c97548f",
   "metadata": {},
   "outputs": [
    {
     "name": "stdout",
     "output_type": "stream",
     "text": [
      "shape (2, 5)\n"
     ]
    }
   ],
   "source": [
    "print(\"shape\",arr2.shape)"
   ]
  },
  {
   "cell_type": "code",
   "execution_count": 8,
   "id": "5d833934-a277-4f0a-83c9-80aed3a671cf",
   "metadata": {},
   "outputs": [
    {
     "data": {
      "text/plain": [
       "10"
      ]
     },
     "execution_count": 8,
     "metadata": {},
     "output_type": "execute_result"
    }
   ],
   "source": [
    "arr2.size"
   ]
  },
  {
   "cell_type": "code",
   "execution_count": 9,
   "id": "a37b2d29-7603-427a-b3a6-c1e70ae5131c",
   "metadata": {},
   "outputs": [
    {
     "data": {
      "text/plain": [
       "dtype('int64')"
      ]
     },
     "execution_count": 9,
     "metadata": {},
     "output_type": "execute_result"
    }
   ],
   "source": [
    "arr.dtype"
   ]
  },
  {
   "cell_type": "code",
   "execution_count": 13,
   "id": "aaf979e2-b82d-4c3a-8c88-078689717e8b",
   "metadata": {},
   "outputs": [
    {
     "data": {
      "text/plain": [
       "array([ 0,  1,  2,  3,  4,  5,  6,  7,  8,  9, 10, 11])"
      ]
     },
     "execution_count": 13,
     "metadata": {},
     "output_type": "execute_result"
    }
   ],
   "source": [
    "arr3= np.arange(12)\n",
    "arr3"
   ]
  },
  {
   "cell_type": "code",
   "execution_count": 14,
   "id": "6fb75869-5685-4e00-9bf8-3eeb2145e5ea",
   "metadata": {},
   "outputs": [
    {
     "data": {
      "text/plain": [
       "array([[ 0,  1,  2,  3],\n",
       "       [ 4,  5,  6,  7],\n",
       "       [ 8,  9, 10, 11]])"
      ]
     },
     "execution_count": 14,
     "metadata": {},
     "output_type": "execute_result"
    }
   ],
   "source": [
    "reshaped_arr=arr3.reshape(3,4)\n",
    "reshaped_arr"
   ]
  },
  {
   "cell_type": "code",
   "execution_count": 20,
   "id": "520d70cb-2a74-4456-88ad-a8a32a1f7350",
   "metadata": {},
   "outputs": [
    {
     "data": {
      "text/plain": [
       "array([ 0,  1,  2,  3,  4,  5,  6,  7,  8,  9, 10, 11])"
      ]
     },
     "execution_count": 20,
     "metadata": {},
     "output_type": "execute_result"
    }
   ],
   "source": [
    "flat_arr=reshaped_arr.flatten()\n",
    "flat_arr"
   ]
  },
  {
   "cell_type": "code",
   "execution_count": null,
   "id": "7038766d-0641-4abe-8b2a-ef645161c445",
   "metadata": {},
   "outputs": [],
   "source": [
    "##ravel orignal view of the array instead of copy"
   ]
  },
  {
   "cell_type": "code",
   "execution_count": 21,
   "id": "57040deb-6c80-463d-8e14-ee52f0718001",
   "metadata": {},
   "outputs": [
    {
     "data": {
      "text/plain": [
       "array([ 0,  1,  2,  3,  4,  5,  6,  7,  8,  9, 10, 11])"
      ]
     },
     "execution_count": 21,
     "metadata": {},
     "output_type": "execute_result"
    }
   ],
   "source": [
    "flat_arr.ravel()"
   ]
  },
  {
   "cell_type": "code",
   "execution_count": 22,
   "id": "71e6ee3f-8f77-4515-9e4f-8a1758aa0fea",
   "metadata": {},
   "outputs": [
    {
     "data": {
      "text/plain": [
       "array([ 0,  1,  2,  3,  4,  5,  6,  7,  8,  9, 10, 11])"
      ]
     },
     "execution_count": 22,
     "metadata": {},
     "output_type": "execute_result"
    }
   ],
   "source": [
    "reshaped_arr.ravel()"
   ]
  },
  {
   "cell_type": "code",
   "execution_count": 24,
   "id": "b8ee297e-d536-4fda-a3e3-db0ca659b089",
   "metadata": {},
   "outputs": [
    {
     "data": {
      "text/plain": [
       "array([[ 0,  4,  8],\n",
       "       [ 1,  5,  9],\n",
       "       [ 2,  6, 10],\n",
       "       [ 3,  7, 11]])"
      ]
     },
     "execution_count": 24,
     "metadata": {},
     "output_type": "execute_result"
    }
   ],
   "source": [
    "reshaped_arr.T"
   ]
  },
  {
   "cell_type": "code",
   "execution_count": 26,
   "id": "3a45f41c-2eb3-43c4-980b-b77eba7e36b8",
   "metadata": {},
   "outputs": [
    {
     "data": {
      "text/plain": [
       "array([2, 3, 4, 5, 6, 7, 8, 9])"
      ]
     },
     "execution_count": 26,
     "metadata": {},
     "output_type": "execute_result"
    }
   ],
   "source": [
    "arr3[2:10]"
   ]
  },
  {
   "cell_type": "code",
   "execution_count": 28,
   "id": "fc1b16fa-fd14-4435-a9c6-5a6f66d736b1",
   "metadata": {},
   "outputs": [
    {
     "data": {
      "text/plain": [
       "array([2, 4, 6, 8])"
      ]
     },
     "execution_count": 28,
     "metadata": {},
     "output_type": "execute_result"
    }
   ],
   "source": [
    "arr3[2:10:2]"
   ]
  },
  {
   "cell_type": "code",
   "execution_count": 29,
   "id": "2808a088-fc85-488f-8fa1-7450ab9153e6",
   "metadata": {},
   "outputs": [
    {
     "data": {
      "text/plain": [
       "array([ 3,  4,  5,  6,  7,  8,  9, 10])"
      ]
     },
     "execution_count": 29,
     "metadata": {},
     "output_type": "execute_result"
    }
   ],
   "source": [
    "arr3[-9:-1]"
   ]
  },
  {
   "cell_type": "code",
   "execution_count": 30,
   "id": "1da725cc-f5ba-458e-917e-650331331881",
   "metadata": {},
   "outputs": [
    {
     "data": {
      "text/plain": [
       "array([[ 0,  1,  2,  3],\n",
       "       [ 4,  5,  6,  7],\n",
       "       [ 8,  9, 10, 11]])"
      ]
     },
     "execution_count": 30,
     "metadata": {},
     "output_type": "execute_result"
    }
   ],
   "source": [
    "reshaped_arr"
   ]
  },
  {
   "cell_type": "code",
   "execution_count": 33,
   "id": "be926f37-f122-4461-889c-70030924ff2a",
   "metadata": {},
   "outputs": [
    {
     "name": "stdout",
     "output_type": "stream",
     "text": [
      "slicing in 2d array [5 6]\n"
     ]
    }
   ],
   "source": [
    "print(\"slicing in 2d array\",reshaped_arr[1,1:3])"
   ]
  },
  {
   "cell_type": "code",
   "execution_count": 39,
   "id": "3cce4faf-d114-4aab-a937-2997784315dd",
   "metadata": {},
   "outputs": [],
   "source": [
    "arr3[0]=40"
   ]
  },
  {
   "cell_type": "code",
   "execution_count": 40,
   "id": "b4db027e-bfee-4e2a-a72d-15ddcdd2df45",
   "metadata": {},
   "outputs": [
    {
     "data": {
      "text/plain": [
       "array([40,  1,  2,  3,  4,  5,  6,  7,  8,  9, 10, 11])"
      ]
     },
     "execution_count": 40,
     "metadata": {},
     "output_type": "execute_result"
    }
   ],
   "source": [
    "arr3"
   ]
  },
  {
   "cell_type": "code",
   "execution_count": 38,
   "id": "334e0863-6678-48ce-a10a-3033236838f3",
   "metadata": {},
   "outputs": [
    {
     "data": {
      "text/plain": [
       "array([40,  1,  2,  3,  4,  5,  6,  7,  8,  9, 10, 11])"
      ]
     },
     "execution_count": 38,
     "metadata": {},
     "output_type": "execute_result"
    }
   ],
   "source": [
    "arr3"
   ]
  },
  {
   "cell_type": "code",
   "execution_count": 50,
   "id": "b694f15d-a36e-4e56-b8a8-1509c8e4e0d0",
   "metadata": {},
   "outputs": [
    {
     "data": {
      "text/plain": [
       "array([[1, 2, 3, 4, 5],\n",
       "       [6, 7, 8, 9, 0],\n",
       "       [1, 2, 7, 6, 8]])"
      ]
     },
     "execution_count": 50,
     "metadata": {},
     "output_type": "execute_result"
    }
   ],
   "source": [
    "two_darray= np.array([[1,2,3,4,5],[6,7,8,9,0],[1,2,7,6,8]])\n",
    "two_darray"
   ]
  },
  {
   "cell_type": "code",
   "execution_count": 51,
   "id": "ebd7c1d1-a33a-4e8e-b0e6-321d583eb742",
   "metadata": {},
   "outputs": [
    {
     "data": {
      "text/plain": [
       "np.int64(7)"
      ]
     },
     "execution_count": 51,
     "metadata": {},
     "output_type": "execute_result"
    }
   ],
   "source": [
    "two_darray[1,1]"
   ]
  },
  {
   "cell_type": "code",
   "execution_count": 53,
   "id": "af9bcea2-ed21-42b5-8f3e-06a936ee4dd1",
   "metadata": {},
   "outputs": [
    {
     "data": {
      "text/plain": [
       "array([2, 7, 2])"
      ]
     },
     "execution_count": 53,
     "metadata": {},
     "output_type": "execute_result"
    }
   ],
   "source": [
    "two_darray[:,1]"
   ]
  },
  {
   "cell_type": "code",
   "execution_count": 54,
   "id": "3f0f2660-0f7a-46c3-b23d-859f8421ac0f",
   "metadata": {},
   "outputs": [
    {
     "data": {
      "text/plain": [
       "array([4, 5, 7, 1, 9, 2, 4, 5, 8, 1])"
      ]
     },
     "execution_count": 54,
     "metadata": {},
     "output_type": "execute_result"
    }
   ],
   "source": [
    "unsorted_array=np.array([4,5,7,1,9,2,4,5,8,1])\n",
    "unsorted_array"
   ]
  },
  {
   "cell_type": "code",
   "execution_count": 55,
   "id": "93ec86a2-cc0d-41e8-b19a-c621fe0ccbbc",
   "metadata": {},
   "outputs": [
    {
     "name": "stdout",
     "output_type": "stream",
     "text": [
      "[1 1 2 4 4 5 5 7 8 9]\n"
     ]
    }
   ],
   "source": [
    "print(np.sort(unsorted_array))"
   ]
  },
  {
   "cell_type": "code",
   "execution_count": 56,
   "id": "cd600bbf-def6-48ef-b939-5e6f16ea57d3",
   "metadata": {},
   "outputs": [
    {
     "data": {
      "text/plain": [
       "array([[1, 8, 3, 9, 5],\n",
       "       [2, 7, 1, 9, 0],\n",
       "       [1, 2, 5, 6, 1]])"
      ]
     },
     "execution_count": 56,
     "metadata": {},
     "output_type": "execute_result"
    }
   ],
   "source": [
    "unsorted_array= np.array([[1,8,3,9,5],[2,7,1,9,0],[1,2,5,6,1]])\n",
    "unsorted_array"
   ]
  },
  {
   "cell_type": "code",
   "execution_count": 58,
   "id": "e1f3b6e0-0f6c-4b36-940b-f717a2d623d6",
   "metadata": {},
   "outputs": [
    {
     "data": {
      "text/plain": [
       "array([[1, 3, 5, 8, 9],\n",
       "       [0, 1, 2, 7, 9],\n",
       "       [1, 1, 2, 5, 6]])"
      ]
     },
     "execution_count": 58,
     "metadata": {},
     "output_type": "execute_result"
    }
   ],
   "source": [
    "np.sort(unsorted_array,axis=1)"
   ]
  },
  {
   "cell_type": "code",
   "execution_count": 59,
   "id": "67740451-a7ea-4188-a959-3b6f70645173",
   "metadata": {},
   "outputs": [
    {
     "data": {
      "text/plain": [
       "array([[1, 2, 1, 6, 0],\n",
       "       [1, 7, 3, 9, 1],\n",
       "       [2, 8, 5, 9, 5]])"
      ]
     },
     "execution_count": 59,
     "metadata": {},
     "output_type": "execute_result"
    }
   ],
   "source": [
    "np.sort(unsorted_array,axis=0)"
   ]
  },
  {
   "cell_type": "code",
   "execution_count": 63,
   "id": "4061ea42-45a4-4f6c-8faa-7f6250c4121f",
   "metadata": {},
   "outputs": [],
   "source": [
    "a=np.arange(10)\n",
    "b=np.arange(10,20)"
   ]
  },
  {
   "cell_type": "code",
   "execution_count": 65,
   "id": "6c844b84-f92c-4455-8a98-0ed417471df0",
   "metadata": {},
   "outputs": [
    {
     "data": {
      "text/plain": [
       "array([0, 1, 2, 3, 4, 5, 6, 7, 8, 9])"
      ]
     },
     "execution_count": 65,
     "metadata": {},
     "output_type": "execute_result"
    }
   ],
   "source": [
    "a"
   ]
  },
  {
   "cell_type": "code",
   "execution_count": 66,
   "id": "b9bf839a-a4a0-4a1f-93de-d4c22f6b43aa",
   "metadata": {},
   "outputs": [
    {
     "data": {
      "text/plain": [
       "array([10, 11, 12, 13, 14, 15, 16, 17, 18, 19])"
      ]
     },
     "execution_count": 66,
     "metadata": {},
     "output_type": "execute_result"
    }
   ],
   "source": [
    "b"
   ]
  },
  {
   "cell_type": "code",
   "execution_count": 67,
   "id": "0b64627f-27af-4d97-af46-8a84762fb756",
   "metadata": {},
   "outputs": [
    {
     "data": {
      "text/plain": [
       "array([ 0,  1,  2,  3,  4,  5,  6,  7,  8,  9, 10, 11, 12, 13, 14, 15, 16,\n",
       "       17, 18, 19])"
      ]
     },
     "execution_count": 67,
     "metadata": {},
     "output_type": "execute_result"
    }
   ],
   "source": [
    "np.concatenate((a, b))"
   ]
  },
  {
   "cell_type": "code",
   "execution_count": 70,
   "id": "7ffab2f7-32f3-4b9d-b2d5-0c09c4ce3ae5",
   "metadata": {},
   "outputs": [
    {
     "data": {
      "text/plain": [
       "array([ 0,  1,  2,  3,  4,  5,  6,  7,  8,  9, 10, 11, 12, 13, 14, 15, 16,\n",
       "       17, 18, 19])"
      ]
     },
     "execution_count": 70,
     "metadata": {},
     "output_type": "execute_result"
    }
   ],
   "source": [
    "np.concatenate((a, b), axis=0)"
   ]
  },
  {
   "cell_type": "code",
   "execution_count": null,
   "id": "782f0dcd-af82-4495-b50e-0dc6435421d9",
   "metadata": {},
   "outputs": [],
   "source": [
    "s"
   ]
  }
 ],
 "metadata": {
  "kernelspec": {
   "display_name": "Python 3 (ipykernel)",
   "language": "python",
   "name": "python3"
  },
  "language_info": {
   "codemirror_mode": {
    "name": "ipython",
    "version": 3
   },
   "file_extension": ".py",
   "mimetype": "text/x-python",
   "name": "python",
   "nbconvert_exporter": "python",
   "pygments_lexer": "ipython3",
   "version": "3.11.9"
  }
 },
 "nbformat": 4,
 "nbformat_minor": 5
}
