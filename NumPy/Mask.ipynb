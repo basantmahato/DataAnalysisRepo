{
 "cells": [
  {
   "cell_type": "code",
   "execution_count": 3,
   "id": "af57738c-3663-41a2-b39f-9c16fc5e4d54",
   "metadata": {},
   "outputs": [
    {
     "data": {
      "text/plain": [
       "array([1, 2, 3, 4, 5, 6, 7, 8, 9])"
      ]
     },
     "execution_count": 3,
     "metadata": {},
     "output_type": "execute_result"
    }
   ],
   "source": [
    "import numpy as np\n",
    "numbers = np.array([1,2,3,4,5,6,7,8,9])\n",
    "numbers"
   ]
  },
  {
   "cell_type": "code",
   "execution_count": 4,
   "id": "a4b4b2bd-d257-4a70-ad15-cd2b4f984f10",
   "metadata": {},
   "outputs": [
    {
     "name": "stdout",
     "output_type": "stream",
     "text": [
      "[2 4 6 8]\n"
     ]
    }
   ],
   "source": [
    "even_num = numbers[numbers%2==0]\n",
    "print(even_num)"
   ]
  },
  {
   "cell_type": "code",
   "execution_count": 5,
   "id": "100ac856-9c0d-4066-832c-6f32a71ce8fd",
   "metadata": {},
   "outputs": [
    {
     "name": "stdout",
     "output_type": "stream",
     "text": [
      "[6 7 8 9]\n"
     ]
    }
   ],
   "source": [
    "mask = numbers >5\n",
    "print (numbers[mask])"
   ]
  },
  {
   "cell_type": "code",
   "execution_count": 6,
   "id": "3d1bab17-10d0-4f8c-af3f-470e5d28ccf6",
   "metadata": {},
   "outputs": [
    {
     "name": "stdout",
     "output_type": "stream",
     "text": [
      "[3 6 9]\n"
     ]
    }
   ],
   "source": [
    "mask = numbers %3==0\n",
    "print(numbers[mask])"
   ]
  },
  {
   "cell_type": "code",
   "execution_count": 7,
   "id": "9e28db6d-7ee1-403e-9e5a-80847e8e39da",
   "metadata": {},
   "outputs": [
    {
     "name": "stdout",
     "output_type": "stream",
     "text": [
      "[3 6 9]\n"
     ]
    }
   ],
   "source": [
    "mask = numbers[numbers%3==0]\n",
    "print (mask)"
   ]
  },
  {
   "cell_type": "code",
   "execution_count": null,
   "id": "cee19f51-d7b3-4240-829a-c2df8426dfb3",
   "metadata": {},
   "outputs": [],
   "source": []
  }
 ],
 "metadata": {
  "kernelspec": {
   "display_name": "Python 3 (ipykernel)",
   "language": "python",
   "name": "python3"
  },
  "language_info": {
   "codemirror_mode": {
    "name": "ipython",
    "version": 3
   },
   "file_extension": ".py",
   "mimetype": "text/x-python",
   "name": "python",
   "nbconvert_exporter": "python",
   "pygments_lexer": "ipython3",
   "version": "3.11.9"
  }
 },
 "nbformat": 4,
 "nbformat_minor": 5
}
