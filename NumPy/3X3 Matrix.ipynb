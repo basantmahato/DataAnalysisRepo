{
 "cells": [
  {
   "cell_type": "code",
   "execution_count": null,
   "id": "66224a18-1dc0-4039-b5ee-6d34ffc993df",
   "metadata": {},
   "outputs": [],
   "source": [
    "Numpy Questions"
   ]
  },
  {
   "cell_type": "code",
   "execution_count": 1,
   "id": "09354383-3d4c-42b8-8541-e4e22385c1f8",
   "metadata": {},
   "outputs": [],
   "source": [
    "import numpy as np"
   ]
  },
  {
   "cell_type": "code",
   "execution_count": 4,
   "id": "112cd308-6445-4031-89c5-549bbf1431ef",
   "metadata": {},
   "outputs": [],
   "source": [
    "matrix = np.array([[1,2,3],[4,5,6],[7,8,9]])"
   ]
  },
  {
   "cell_type": "code",
   "execution_count": 5,
   "id": "c13cc08c-2cb7-49bb-b991-57d932929eff",
   "metadata": {},
   "outputs": [
    {
     "data": {
      "text/plain": [
       "array([[1, 2, 3],\n",
       "       [4, 5, 6],\n",
       "       [7, 8, 9]])"
      ]
     },
     "execution_count": 5,
     "metadata": {},
     "output_type": "execute_result"
    }
   ],
   "source": [
    "matrix"
   ]
  },
  {
   "cell_type": "code",
   "execution_count": 7,
   "id": "1a8ecfe4-1086-42e0-864d-005c17c22041",
   "metadata": {},
   "outputs": [
    {
     "data": {
      "text/plain": [
       "np.int64(45)"
      ]
     },
     "execution_count": 7,
     "metadata": {},
     "output_type": "execute_result"
    }
   ],
   "source": [
    "sum_of_elements = np.sum(matrix)\n",
    "sum_of_elements"
   ]
  },
  {
   "cell_type": "code",
   "execution_count": 9,
   "id": "c645b9cc-b30c-4026-8d06-d11c078a2da6",
   "metadata": {},
   "outputs": [
    {
     "data": {
      "text/plain": [
       "array([ 6, 15, 24])"
      ]
     },
     "execution_count": 9,
     "metadata": {},
     "output_type": "execute_result"
    }
   ],
   "source": [
    "sum_of_rows = np.sum(matrix , axis = 1)\n",
    "sum_of_rows"
   ]
  },
  {
   "cell_type": "code",
   "execution_count": 10,
   "id": "43772237-9c2b-4900-ad6e-ee306dbdc930",
   "metadata": {},
   "outputs": [
    {
     "data": {
      "text/plain": [
       "array([12, 15, 18])"
      ]
     },
     "execution_count": 10,
     "metadata": {},
     "output_type": "execute_result"
    }
   ],
   "source": [
    "sum_of_columns= np.sum(matrix,axis =0)\n",
    "sum_of_columns"
   ]
  },
  {
   "cell_type": "code",
   "execution_count": 11,
   "id": "cfbced79-ce67-4eaa-92c1-2278f0bda6c1",
   "metadata": {},
   "outputs": [],
   "source": [
    "transpose_of_matrix = matrix.T"
   ]
  },
  {
   "cell_type": "code",
   "execution_count": 12,
   "id": "b623d3ee-6361-452b-9c0a-f9a9f78e3895",
   "metadata": {},
   "outputs": [
    {
     "data": {
      "text/plain": [
       "array([[1, 4, 7],\n",
       "       [2, 5, 8],\n",
       "       [3, 6, 9]])"
      ]
     },
     "execution_count": 12,
     "metadata": {},
     "output_type": "execute_result"
    }
   ],
   "source": [
    "transpose_of_matrix"
   ]
  },
  {
   "cell_type": "code",
   "execution_count": 20,
   "id": "c3d16ba6-d918-4740-9e18-fbfda7d9752a",
   "metadata": {},
   "outputs": [],
   "source": [
    "transpose_of_matrix_sorted = np.sort(transpose_of_matrix ) "
   ]
  },
  {
   "cell_type": "code",
   "execution_count": 21,
   "id": "460b966e-d081-48d8-bcc8-c311f43a9c6b",
   "metadata": {},
   "outputs": [
    {
     "data": {
      "text/plain": [
       "array([[1, 4, 7],\n",
       "       [2, 5, 8],\n",
       "       [3, 6, 9]])"
      ]
     },
     "execution_count": 21,
     "metadata": {},
     "output_type": "execute_result"
    }
   ],
   "source": [
    "transpose_of_matrix_sorted"
   ]
  },
  {
   "cell_type": "code",
   "execution_count": 22,
   "id": "2636fbac-a4bf-4454-a5b8-e192af2164fd",
   "metadata": {},
   "outputs": [
    {
     "data": {
      "text/plain": [
       "array([[9, 6, 3],\n",
       "       [8, 5, 2],\n",
       "       [7, 4, 1]])"
      ]
     },
     "execution_count": 22,
     "metadata": {},
     "output_type": "execute_result"
    }
   ],
   "source": [
    "transpose_of_matrix_sorted_desc = np.flip(transpose_of_matrix_sorted) \n",
    "transpose_of_matrix_sorted_desc\n"
   ]
  },
  {
   "cell_type": "code",
   "execution_count": null,
   "id": "0299e32f-38e9-44b2-951f-29e7f7e3514d",
   "metadata": {},
   "outputs": [],
   "source": []
  }
 ],
 "metadata": {
  "kernelspec": {
   "display_name": "Python 3 (ipykernel)",
   "language": "python",
   "name": "python3"
  },
  "language_info": {
   "codemirror_mode": {
    "name": "ipython",
    "version": 3
   },
   "file_extension": ".py",
   "mimetype": "text/x-python",
   "name": "python",
   "nbconvert_exporter": "python",
   "pygments_lexer": "ipython3",
   "version": "3.11.9"
  }
 },
 "nbformat": 4,
 "nbformat_minor": 5
}
