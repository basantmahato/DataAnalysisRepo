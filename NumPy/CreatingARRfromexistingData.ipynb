{
 "cells": [
  {
   "cell_type": "markdown",
   "id": "250a3912-d9eb-4e29-a114-1e013d97433a",
   "metadata": {},
   "source": [
    "Creating Array From existing data "
   ]
  },
  {
   "cell_type": "code",
   "execution_count": 2,
   "id": "626b57f2-3cd0-42aa-bbf8-9eb6702eba24",
   "metadata": {},
   "outputs": [
    {
     "data": {
      "text/plain": [
       "array([1, 2, 3, 4, 5, 6, 7, 8, 9])"
      ]
     },
     "execution_count": 2,
     "metadata": {},
     "output_type": "execute_result"
    }
   ],
   "source": [
    "import numpy as np\n",
    "\n",
    "array =np.array([1,2,3,4,5,6,7,8,9])\n",
    "array"
   ]
  },
  {
   "cell_type": "code",
   "execution_count": 3,
   "id": "e53883d2-b272-4cc9-81f5-bc5f8c1e39ad",
   "metadata": {},
   "outputs": [
    {
     "data": {
      "text/plain": [
       "array([4, 5, 6, 7])"
      ]
     },
     "execution_count": 3,
     "metadata": {},
     "output_type": "execute_result"
    }
   ],
   "source": [
    "arr1 = array[3:7]\n",
    "arr1"
   ]
  },
  {
   "cell_type": "markdown",
   "id": "f6272ce6-08a4-4e51-8888-5e96ddadffe8",
   "metadata": {},
   "source": [
    " Stacking Array"
   ]
  },
  {
   "cell_type": "code",
   "execution_count": 8,
   "id": "e0cae664-744a-48ba-8e03-45ead86f2aea",
   "metadata": {},
   "outputs": [],
   "source": [
    "arr1 = np.array([1,2,3])\n",
    "arr2 = np.array([1,2,3])\n",
    "\n",
    "varray = np.vstack((arr1,arr2))"
   ]
  },
  {
   "cell_type": "code",
   "execution_count": 9,
   "id": "13e0f235-06ed-4ddc-bdda-116518cdc820",
   "metadata": {},
   "outputs": [
    {
     "data": {
      "text/plain": [
       "array([[1, 2, 3],\n",
       "       [1, 2, 3]])"
      ]
     },
     "execution_count": 9,
     "metadata": {},
     "output_type": "execute_result"
    }
   ],
   "source": [
    "varray"
   ]
  },
  {
   "cell_type": "markdown",
   "id": "5a4cc912-03d6-40a5-ad3f-669871d2c922",
   "metadata": {},
   "source": [
    "Using Range and Reshape"
   ]
  },
  {
   "cell_type": "code",
   "execution_count": 12,
   "id": "20cf2a9a-4b4e-48cf-a70b-58ca2a498a9f",
   "metadata": {},
   "outputs": [
    {
     "data": {
      "text/plain": [
       "array([ 1,  2,  3,  4,  5,  6,  7,  8,  9, 10])"
      ]
     },
     "execution_count": 12,
     "metadata": {},
     "output_type": "execute_result"
    }
   ],
   "source": [
    "arrx = np.arange(1,11)\n",
    "arrx"
   ]
  },
  {
   "cell_type": "code",
   "execution_count": 13,
   "id": "b02a2201-30d9-4e6e-8379-c609acc71ea1",
   "metadata": {},
   "outputs": [],
   "source": [
    "reshaped_arrx= arrx.reshape(2,5)"
   ]
  },
  {
   "cell_type": "code",
   "execution_count": 14,
   "id": "62bac09e-d96d-4c61-a0b5-1f0556eb6505",
   "metadata": {},
   "outputs": [
    {
     "data": {
      "text/plain": [
       "array([[ 1,  2,  3,  4,  5],\n",
       "       [ 6,  7,  8,  9, 10]])"
      ]
     },
     "execution_count": 14,
     "metadata": {},
     "output_type": "execute_result"
    }
   ],
   "source": [
    "reshaped_arrx"
   ]
  },
  {
   "cell_type": "code",
   "execution_count": null,
   "id": "a9b55d07-dc90-4123-b472-b279ed8d88c5",
   "metadata": {},
   "outputs": [],
   "source": []
  }
 ],
 "metadata": {
  "kernelspec": {
   "display_name": "Python 3 (ipykernel)",
   "language": "python",
   "name": "python3"
  },
  "language_info": {
   "codemirror_mode": {
    "name": "ipython",
    "version": 3
   },
   "file_extension": ".py",
   "mimetype": "text/x-python",
   "name": "python",
   "nbconvert_exporter": "python",
   "pygments_lexer": "ipython3",
   "version": "3.11.9"
  }
 },
 "nbformat": 4,
 "nbformat_minor": 5
}
