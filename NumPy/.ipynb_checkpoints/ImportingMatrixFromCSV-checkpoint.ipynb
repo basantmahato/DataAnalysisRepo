{
 "cells": [
  {
   "cell_type": "code",
   "execution_count": 3,
   "id": "f9809ea0-1940-4957-964e-8245e317ad08",
   "metadata": {},
   "outputs": [
    {
     "name": "stdout",
     "output_type": "stream",
     "text": [
      "[[1. 2. 3.]\n",
      " [4. 5. 6.]\n",
      " [7. 8. 9.]]\n"
     ]
    }
   ],
   "source": [
    "import numpy as np\n",
    "\n",
    "matrix = np.loadtxt('3x3.csv', delimiter=',')\n",
    "\n",
    "print(matrix)"
   ]
  },
  {
   "cell_type": "code",
   "execution_count": 4,
   "id": "3d824382-e192-4beb-822f-7d9719ad05f0",
   "metadata": {},
   "outputs": [
    {
     "data": {
      "text/plain": [
       "np.float64(5.0)"
      ]
     },
     "execution_count": 4,
     "metadata": {},
     "output_type": "execute_result"
    }
   ],
   "source": [
    "matrix[1,1]"
   ]
  },
  {
   "cell_type": "code",
   "execution_count": null,
   "id": "71b41bdc-e64a-4867-b6bc-e02fbb5be228",
   "metadata": {},
   "outputs": [],
   "source": [
    "Converting Float Matrix to Int"
   ]
  },
  {
   "cell_type": "code",
   "execution_count": 5,
   "id": "256774c0-75f6-4d3d-9494-46c7f29c9bc3",
   "metadata": {},
   "outputs": [],
   "source": [
    "int_matrix= matrix.astype(int)"
   ]
  },
  {
   "cell_type": "code",
   "execution_count": 6,
   "id": "9f36c532-dcbd-47c6-a219-a521a9ebf6cf",
   "metadata": {},
   "outputs": [
    {
     "data": {
      "text/plain": [
       "array([[1, 2, 3],\n",
       "       [4, 5, 6],\n",
       "       [7, 8, 9]])"
      ]
     },
     "execution_count": 6,
     "metadata": {},
     "output_type": "execute_result"
    }
   ],
   "source": [
    "int_matrix"
   ]
  },
  {
   "cell_type": "code",
   "execution_count": null,
   "id": "a0b88636-965a-41d4-995c-a6eadadf6d14",
   "metadata": {},
   "outputs": [],
   "source": []
  }
 ],
 "metadata": {
  "kernelspec": {
   "display_name": "Python 3 (ipykernel)",
   "language": "python",
   "name": "python3"
  },
  "language_info": {
   "codemirror_mode": {
    "name": "ipython",
    "version": 3
   },
   "file_extension": ".py",
   "mimetype": "text/x-python",
   "name": "python",
   "nbconvert_exporter": "python",
   "pygments_lexer": "ipython3",
   "version": "3.11.9"
  }
 },
 "nbformat": 4,
 "nbformat_minor": 5
}
