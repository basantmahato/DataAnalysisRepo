{
 "cells": [
  {
   "cell_type": "markdown",
   "id": "646998d3-c03a-4ffb-b6bb-61e9ff3a12e6",
   "metadata": {},
   "source": [
    "create two matrices of shape 2 , 2 find the sum of these matrix "
   ]
  },
  {
   "cell_type": "code",
   "execution_count": 9,
   "id": "e5de2b55-801a-4bea-ac07-812b6fd0023f",
   "metadata": {},
   "outputs": [],
   "source": [
    "import numpy as np \n",
    "array1 = np.array([1,2])\n",
    "array2 = np.array([1,2])"
   ]
  },
  {
   "cell_type": "code",
   "execution_count": 103,
   "id": "6df76494-00aa-43ce-9b55-66ab2b208987",
   "metadata": {},
   "outputs": [],
   "source": [
    "sum_of_array = array1/ array2"
   ]
  },
  {
   "cell_type": "code",
   "execution_count": 104,
   "id": "c5478a49-7aa2-4d4c-a44f-e26a9fd1941b",
   "metadata": {},
   "outputs": [
    {
     "data": {
      "text/plain": [
       "array([1., 1.])"
      ]
     },
     "execution_count": 104,
     "metadata": {},
     "output_type": "execute_result"
    }
   ],
   "source": [
    "sum_of_array"
   ]
  },
  {
   "cell_type": "markdown",
   "id": "b6591eac-2912-4c57-8c3a-cef243c44a1d",
   "metadata": {},
   "source": [
    "Create 1d / 2d array function and araange funtion "
   ]
  },
  {
   "cell_type": "code",
   "execution_count": 12,
   "id": "a624dea9-9c94-4f5d-83e0-1ce5ed19f532",
   "metadata": {},
   "outputs": [],
   "source": [
    "import numpy as np \n",
    "\n",
    "one_d = np.array([1,2,3,4,5])\n",
    "two_d = np.array([0,9,8,7,6])\n",
    "\n",
    "one_d_r = np.arange(10)\n",
    "two_d_r = np.arange(10)"
   ]
  },
  {
   "cell_type": "code",
   "execution_count": 15,
   "id": "c60ca3c4-2976-45de-9353-21a54c6a6836",
   "metadata": {},
   "outputs": [
    {
     "data": {
      "text/plain": [
       "array([1, 2, 3, 4, 5])"
      ]
     },
     "execution_count": 15,
     "metadata": {},
     "output_type": "execute_result"
    }
   ],
   "source": [
    "one_d\n"
   ]
  },
  {
   "cell_type": "code",
   "execution_count": 16,
   "id": "65fadbeb-e335-4b36-9cfd-0a92e10d40bd",
   "metadata": {},
   "outputs": [
    {
     "data": {
      "text/plain": [
       "array([0, 9, 8, 7, 6])"
      ]
     },
     "execution_count": 16,
     "metadata": {},
     "output_type": "execute_result"
    }
   ],
   "source": [
    "two_d"
   ]
  },
  {
   "cell_type": "code",
   "execution_count": 17,
   "id": "74c46fa5-10f4-4a88-93c0-643f56406600",
   "metadata": {},
   "outputs": [
    {
     "data": {
      "text/plain": [
       "array([0, 1, 2, 3, 4, 5, 6, 7, 8, 9])"
      ]
     },
     "execution_count": 17,
     "metadata": {},
     "output_type": "execute_result"
    }
   ],
   "source": [
    "one_d_r"
   ]
  },
  {
   "cell_type": "code",
   "execution_count": 18,
   "id": "dca68e77-7b7b-4afb-b13b-eabfbf771ac5",
   "metadata": {},
   "outputs": [
    {
     "data": {
      "text/plain": [
       "array([0, 1, 2, 3, 4, 5, 6, 7, 8, 9])"
      ]
     },
     "execution_count": 18,
     "metadata": {},
     "output_type": "execute_result"
    }
   ],
   "source": [
    "two_d_r"
   ]
  },
  {
   "cell_type": "markdown",
   "id": "9ad86d9e-09d3-4f35-99f9-181a78782b03",
   "metadata": {},
   "source": [
    "use the attributes of numpy in one  d array atleast use 5 attributes "
   ]
  },
  {
   "cell_type": "code",
   "execution_count": 19,
   "id": "0261383e-1dda-45f8-8ab4-7c9072b4e52b",
   "metadata": {},
   "outputs": [],
   "source": [
    "atr1 = one_d[1:5]"
   ]
  },
  {
   "cell_type": "code",
   "execution_count": 20,
   "id": "e88eac23-d903-43da-a927-9578419c9588",
   "metadata": {},
   "outputs": [
    {
     "data": {
      "text/plain": [
       "array([2, 3, 4, 5])"
      ]
     },
     "execution_count": 20,
     "metadata": {},
     "output_type": "execute_result"
    }
   ],
   "source": [
    "atr1"
   ]
  },
  {
   "cell_type": "code",
   "execution_count": 21,
   "id": "4542938c-6076-4ab9-8270-bd378eb7d036",
   "metadata": {},
   "outputs": [],
   "source": [
    "atr2 = one_d.T"
   ]
  },
  {
   "cell_type": "code",
   "execution_count": 22,
   "id": "f343f430-e7a5-4aed-bcc8-3eabeb04b287",
   "metadata": {},
   "outputs": [
    {
     "data": {
      "text/plain": [
       "array([1, 2, 3, 4, 5])"
      ]
     },
     "execution_count": 22,
     "metadata": {},
     "output_type": "execute_result"
    }
   ],
   "source": [
    "atr2"
   ]
  },
  {
   "cell_type": "code",
   "execution_count": 23,
   "id": "e9c3d699-e3e0-4f30-89cc-379412a5169a",
   "metadata": {},
   "outputs": [],
   "source": [
    "atr3 = one_d[0]"
   ]
  },
  {
   "cell_type": "code",
   "execution_count": 25,
   "id": "ee3a931d-1c16-405a-905a-b87ae7089a06",
   "metadata": {},
   "outputs": [
    {
     "data": {
      "text/plain": [
       "np.int64(1)"
      ]
     },
     "execution_count": 25,
     "metadata": {},
     "output_type": "execute_result"
    }
   ],
   "source": [
    "atr3"
   ]
  },
  {
   "cell_type": "code",
   "execution_count": 26,
   "id": "54c869bf-3688-4971-b841-42d1e01ce380",
   "metadata": {},
   "outputs": [],
   "source": [
    "atr4 = one_d_r.reshape(2,5)"
   ]
  },
  {
   "cell_type": "code",
   "execution_count": 27,
   "id": "d6b15a90-df9a-43c2-a1fc-9e70b2470df5",
   "metadata": {},
   "outputs": [
    {
     "data": {
      "text/plain": [
       "array([[0, 1, 2, 3, 4],\n",
       "       [5, 6, 7, 8, 9]])"
      ]
     },
     "execution_count": 27,
     "metadata": {},
     "output_type": "execute_result"
    }
   ],
   "source": [
    "atr4"
   ]
  },
  {
   "cell_type": "code",
   "execution_count": 28,
   "id": "f1099b8e-6343-4efd-809c-ec02429391d5",
   "metadata": {},
   "outputs": [
    {
     "data": {
      "text/plain": [
       "dtype('int64')"
      ]
     },
     "execution_count": 28,
     "metadata": {},
     "output_type": "execute_result"
    }
   ],
   "source": [
    "one_d.dtype"
   ]
  },
  {
   "cell_type": "code",
   "execution_count": 33,
   "id": "76a03a80-3e56-4f09-9893-db758a26b571",
   "metadata": {},
   "outputs": [
    {
     "data": {
      "text/plain": [
       "(5,)"
      ]
     },
     "execution_count": 33,
     "metadata": {},
     "output_type": "execute_result"
    }
   ],
   "source": [
    "one_d.shape"
   ]
  },
  {
   "cell_type": "code",
   "execution_count": 34,
   "id": "ebd1d51c-e9a9-4f8a-97dd-ba9a4f94122b",
   "metadata": {},
   "outputs": [
    {
     "data": {
      "text/plain": [
       "5"
      ]
     },
     "execution_count": 34,
     "metadata": {},
     "output_type": "execute_result"
    }
   ],
   "source": [
    "one_d.size"
   ]
  },
  {
   "cell_type": "code",
   "execution_count": 30,
   "id": "aa9e37cd-71dd-4601-8a70-1fc6e8180e50",
   "metadata": {},
   "outputs": [
    {
     "data": {
      "text/plain": [
       "array([1., 1.])"
      ]
     },
     "execution_count": 30,
     "metadata": {},
     "output_type": "execute_result"
    }
   ],
   "source": [
    "ones=np.ones(2)\n",
    "ones"
   ]
  },
  {
   "cell_type": "code",
   "execution_count": 31,
   "id": "7352d8b5-3869-4603-8c9c-9e45019fcb5b",
   "metadata": {},
   "outputs": [],
   "source": [
    "zeros = np.zeros(58)"
   ]
  },
  {
   "cell_type": "code",
   "execution_count": 32,
   "id": "ceb3401c-7e1f-425c-9842-5579539efa49",
   "metadata": {},
   "outputs": [
    {
     "data": {
      "text/plain": [
       "array([0., 0., 0., 0., 0., 0., 0., 0., 0., 0., 0., 0., 0., 0., 0., 0., 0.,\n",
       "       0., 0., 0., 0., 0., 0., 0., 0., 0., 0., 0., 0., 0., 0., 0., 0., 0.,\n",
       "       0., 0., 0., 0., 0., 0., 0., 0., 0., 0., 0., 0., 0., 0., 0., 0., 0.,\n",
       "       0., 0., 0., 0., 0., 0., 0.])"
      ]
     },
     "execution_count": 32,
     "metadata": {},
     "output_type": "execute_result"
    }
   ],
   "source": [
    "zeros"
   ]
  },
  {
   "cell_type": "code",
   "execution_count": null,
   "id": "375797a7-3990-4c5e-b71e-4b7ddc6e218b",
   "metadata": {},
   "outputs": [],
   "source": [
    "create an array within a range of zero to 100 with step 3 \n"
   ]
  },
  {
   "cell_type": "code",
   "execution_count": 40,
   "id": "88936006-6a09-45f9-90b7-4bd24c5da8c7",
   "metadata": {},
   "outputs": [],
   "source": [
    "array_range = np.arange(1,100,3)"
   ]
  },
  {
   "cell_type": "code",
   "execution_count": 41,
   "id": "7147507f-5a64-41d9-98fb-f2ef9c9b02a6",
   "metadata": {},
   "outputs": [
    {
     "data": {
      "text/plain": [
       "array([ 1,  4,  7, 10, 13, 16, 19, 22, 25, 28, 31, 34, 37, 40, 43, 46, 49,\n",
       "       52, 55, 58, 61, 64, 67, 70, 73, 76, 79, 82, 85, 88, 91, 94, 97])"
      ]
     },
     "execution_count": 41,
     "metadata": {},
     "output_type": "execute_result"
    }
   ],
   "source": [
    "array_range"
   ]
  },
  {
   "cell_type": "code",
   "execution_count": null,
   "id": "ff9ac901-9e15-4a37-990f-f1c53790cef9",
   "metadata": {},
   "outputs": [],
   "source": [
    "create an array of 3x3 and get first two rows "
   ]
  },
  {
   "cell_type": "code",
   "execution_count": 43,
   "id": "76ceb869-690d-4b72-a556-0b5d9fbe0c88",
   "metadata": {},
   "outputs": [],
   "source": [
    "three_m = np.array([[1,2,3],[4,5,6],[7,8,9]])"
   ]
  },
  {
   "cell_type": "code",
   "execution_count": 44,
   "id": "87bf8350-842e-4682-962a-40a94c7cbfde",
   "metadata": {},
   "outputs": [
    {
     "data": {
      "text/plain": [
       "array([[1, 2, 3],\n",
       "       [4, 5, 6],\n",
       "       [7, 8, 9]])"
      ]
     },
     "execution_count": 44,
     "metadata": {},
     "output_type": "execute_result"
    }
   ],
   "source": [
    "three_m"
   ]
  },
  {
   "cell_type": "code",
   "execution_count": 51,
   "id": "f150600e-c20f-4d67-9c76-ef814db4fc51",
   "metadata": {},
   "outputs": [],
   "source": [
    "three_m_r2 = three_m[:2]"
   ]
  },
  {
   "cell_type": "code",
   "execution_count": 52,
   "id": "6d94d86e-d464-4ffd-b172-d4a33bacf522",
   "metadata": {},
   "outputs": [
    {
     "data": {
      "text/plain": [
       "array([[1, 2, 3],\n",
       "       [4, 5, 6]])"
      ]
     },
     "execution_count": 52,
     "metadata": {},
     "output_type": "execute_result"
    }
   ],
   "source": [
    "three_m_r2"
   ]
  },
  {
   "cell_type": "markdown",
   "id": "51da0433-aa18-42c1-a3c5-38936891c6be",
   "metadata": {},
   "source": [
    "\n",
    "create an one d array and reshape it \n"
   ]
  },
  {
   "cell_type": "code",
   "execution_count": 54,
   "id": "d8f08185-59b8-4c7a-a42e-df68314a48a8",
   "metadata": {},
   "outputs": [],
   "source": [
    "xarray = np.arange(15)"
   ]
  },
  {
   "cell_type": "code",
   "execution_count": 55,
   "id": "2457fe97-950a-415d-93d7-eb689d3f0ab6",
   "metadata": {},
   "outputs": [
    {
     "data": {
      "text/plain": [
       "array([ 0,  1,  2,  3,  4,  5,  6,  7,  8,  9, 10, 11, 12, 13, 14])"
      ]
     },
     "execution_count": 55,
     "metadata": {},
     "output_type": "execute_result"
    }
   ],
   "source": [
    "xarray"
   ]
  },
  {
   "cell_type": "code",
   "execution_count": 56,
   "id": "a7c8a27a-4a3c-4f21-9066-39a0dbc354b4",
   "metadata": {},
   "outputs": [],
   "source": [
    "reshapedx = xarray.reshape(3,5)"
   ]
  },
  {
   "cell_type": "code",
   "execution_count": 57,
   "id": "251c2f33-fd3d-4bbb-8b8d-3dbae5e2063d",
   "metadata": {},
   "outputs": [
    {
     "data": {
      "text/plain": [
       "array([[ 0,  1,  2,  3,  4],\n",
       "       [ 5,  6,  7,  8,  9],\n",
       "       [10, 11, 12, 13, 14]])"
      ]
     },
     "execution_count": 57,
     "metadata": {},
     "output_type": "execute_result"
    }
   ],
   "source": [
    "reshapedx"
   ]
  },
  {
   "cell_type": "code",
   "execution_count": 59,
   "id": "0fdbe31e-4915-4376-984a-7175166f0551",
   "metadata": {},
   "outputs": [
    {
     "data": {
      "text/plain": [
       "array([[ 0,  5, 10],\n",
       "       [ 1,  6, 11],\n",
       "       [ 2,  7, 12],\n",
       "       [ 3,  8, 13],\n",
       "       [ 4,  9, 14]])"
      ]
     },
     "execution_count": 59,
     "metadata": {},
     "output_type": "execute_result"
    }
   ],
   "source": [
    "reshapedx.T"
   ]
  },
  {
   "cell_type": "code",
   "execution_count": 84,
   "id": "ed167556-fc6f-4cc3-9280-edc66063ff96",
   "metadata": {},
   "outputs": [
    {
     "data": {
      "text/plain": [
       "np.int64(2)"
      ]
     },
     "execution_count": 84,
     "metadata": {},
     "output_type": "execute_result"
    }
   ],
   "source": [
    "reshapedx[0,2]"
   ]
  },
  {
   "cell_type": "code",
   "execution_count": 62,
   "id": "9b655f54-7d5d-4416-b02b-a3ddd77acd0e",
   "metadata": {},
   "outputs": [
    {
     "data": {
      "text/plain": [
       "np.int64(6)"
      ]
     },
     "execution_count": 62,
     "metadata": {},
     "output_type": "execute_result"
    }
   ],
   "source": [
    "reshapedx[1,1]"
   ]
  },
  {
   "cell_type": "code",
   "execution_count": 63,
   "id": "0fabb5c7-bdd2-4ceb-8abf-e4840594cf8b",
   "metadata": {},
   "outputs": [
    {
     "data": {
      "text/plain": [
       "np.int64(10)"
      ]
     },
     "execution_count": 63,
     "metadata": {},
     "output_type": "execute_result"
    }
   ],
   "source": [
    "reshapedx[2,0]"
   ]
  },
  {
   "cell_type": "markdown",
   "id": "b5bdba63-f536-4952-8afb-e83838d9e19a",
   "metadata": {},
   "source": [
    "Create a one d array named unsorted array and sort it "
   ]
  },
  {
   "cell_type": "code",
   "execution_count": 66,
   "id": "662f5ed0-28de-482b-99d2-be601d5fbef1",
   "metadata": {},
   "outputs": [
    {
     "data": {
      "text/plain": [
       "array([7, 5, 8, 9, 4, 2, 5, 9, 2, 4, 5])"
      ]
     },
     "execution_count": 66,
     "metadata": {},
     "output_type": "execute_result"
    }
   ],
   "source": [
    "import numpy as np\n",
    "unsorted_array = np.array([7,5,8,9,4,2,5,9,2,4,5])\n",
    "unsorted_array"
   ]
  },
  {
   "cell_type": "code",
   "execution_count": 67,
   "id": "61c4f63b-6982-4da2-b051-affe8cdbfae3",
   "metadata": {},
   "outputs": [],
   "source": [
    "sorted_array= unsorted_array.T"
   ]
  },
  {
   "cell_type": "code",
   "execution_count": 68,
   "id": "21b324b6-d57e-4849-a885-3e64349db51a",
   "metadata": {},
   "outputs": [
    {
     "data": {
      "text/plain": [
       "array([7, 5, 8, 9, 4, 2, 5, 9, 2, 4, 5])"
      ]
     },
     "execution_count": 68,
     "metadata": {},
     "output_type": "execute_result"
    }
   ],
   "source": [
    "sorted_array"
   ]
  },
  {
   "cell_type": "markdown",
   "id": "f48d65a2-29df-48c7-82ec-3a90dfdf5526",
   "metadata": {},
   "source": [
    "create a 3x2 matrix named unsorted 2d array ad sort it by row wise and colunm wise "
   ]
  },
  {
   "cell_type": "code",
   "execution_count": 72,
   "id": "397911c7-52f7-49e5-9e66-657c12589b2a",
   "metadata": {},
   "outputs": [],
   "source": [
    "unsorted_2d = np.array([[1,2],[8,9],[6,7]])"
   ]
  },
  {
   "cell_type": "code",
   "execution_count": 73,
   "id": "5edb5bbc-2908-4dae-900c-851baf5e3c15",
   "metadata": {},
   "outputs": [
    {
     "data": {
      "text/plain": [
       "array([[1, 2],\n",
       "       [8, 9],\n",
       "       [6, 7]])"
      ]
     },
     "execution_count": 73,
     "metadata": {},
     "output_type": "execute_result"
    }
   ],
   "source": [
    "unsorted_2d"
   ]
  },
  {
   "cell_type": "code",
   "execution_count": 76,
   "id": "0903fc6d-7085-45f8-8f15-0765d9fb2628",
   "metadata": {},
   "outputs": [],
   "source": [
    "sorted_by_c = np.sort(unsorted_2d ,axis=1)"
   ]
  },
  {
   "cell_type": "code",
   "execution_count": 77,
   "id": "c975bbdb-8bef-4064-a570-42fe796186f8",
   "metadata": {},
   "outputs": [
    {
     "data": {
      "text/plain": [
       "array([[1, 2],\n",
       "       [8, 9],\n",
       "       [6, 7]])"
      ]
     },
     "execution_count": 77,
     "metadata": {},
     "output_type": "execute_result"
    }
   ],
   "source": [
    "sorted_by_c"
   ]
  },
  {
   "cell_type": "code",
   "execution_count": 78,
   "id": "369d14c6-4324-45da-8e22-fa8375fdba22",
   "metadata": {},
   "outputs": [],
   "source": [
    "sorted_by_r = np.sort(unsorted_2d ,axis=0)"
   ]
  },
  {
   "cell_type": "code",
   "execution_count": 79,
   "id": "4c23b734-e065-4ee1-9ff5-5e34aa7bb413",
   "metadata": {},
   "outputs": [
    {
     "data": {
      "text/plain": [
       "array([[1, 2],\n",
       "       [6, 7],\n",
       "       [8, 9]])"
      ]
     },
     "execution_count": 79,
     "metadata": {},
     "output_type": "execute_result"
    }
   ],
   "source": [
    "sorted_by_r"
   ]
  },
  {
   "cell_type": "code",
   "execution_count": 86,
   "id": "ba955b58-2a39-4940-9ec4-8668e2398edb",
   "metadata": {},
   "outputs": [
    {
     "name": "stdout",
     "output_type": "stream",
     "text": [
      "==== Zomato sales analysis ==== \n",
      "\n",
      " Sales data shape (5, 5)\n",
      "\n",
      " Sample data for 1st 3 restau:  [[     1 150000 180000 220000 250000]\n",
      " [     2 120000 140000 160000 190000]\n",
      " [     3 200000 230000 260000 300000]]\n"
     ]
    }
   ],
   "source": [
    "sales_data = np.array([\n",
    "    [1, 150000, 180000, 220000, 250000],  # Paradise Biryani\n",
    "    [2, 120000, 140000, 160000, 190000],  # Beijing Bites\n",
    "    [3, 200000, 230000, 260000, 300000],  # Pizza Hub\n",
    "    [4, 180000, 210000, 240000, 270000],  # Burger Point\n",
    "    [5, 160000, 185000, 205000, 230000]   # Chai Point\n",
    "])\n",
    "\n",
    "print(\"==== Zomato sales analysis ==== \")\n",
    "print(\"\\n Sales data shape\", sales_data.shape)\n",
    "print(\"\\n Sample data for 1st 3 restau: \", sales_data[:3])"
   ]
  },
  {
   "cell_type": "code",
   "execution_count": 87,
   "id": "aa7a2209-7f3b-4185-afc5-70fb03b5213c",
   "metadata": {},
   "outputs": [],
   "source": [
    "# total sales per year "
   ]
  },
  {
   "cell_type": "code",
   "execution_count": 93,
   "id": "75a73825-635b-4826-b084-6fde063b1415",
   "metadata": {},
   "outputs": [
    {
     "name": "stdout",
     "output_type": "stream",
     "text": [
      "[     15  810000  945000 1085000 1240000]\n"
     ]
    }
   ],
   "source": [
    "print(np.sum(sales_data , axis =0))"
   ]
  },
  {
   "cell_type": "code",
   "execution_count": 105,
   "id": "9eea8536-05c7-4154-85cb-80a3a88da1f9",
   "metadata": {},
   "outputs": [],
   "source": [
    "yearly_total = np.sum(sales_data[:,1:],axis = 0)"
   ]
  },
  {
   "cell_type": "code",
   "execution_count": 106,
   "id": "36f347c3-9b11-4e48-8b70-2a7bbeb5ec33",
   "metadata": {},
   "outputs": [
    {
     "data": {
      "text/plain": [
       "array([ 810000,  945000, 1085000, 1240000])"
      ]
     },
     "execution_count": 106,
     "metadata": {},
     "output_type": "execute_result"
    }
   ],
   "source": [
    "yearly_total"
   ]
  },
  {
   "cell_type": "code",
   "execution_count": 100,
   "id": "2c5626c2-4df9-4a02-b5ad-803084d72fea",
   "metadata": {},
   "outputs": [],
   "source": [
    "# minimum sales per resturant \n"
   ]
  },
  {
   "cell_type": "code",
   "execution_count": 113,
   "id": "30b5a688-3c61-432b-9b33-db02840cfd4d",
   "metadata": {},
   "outputs": [],
   "source": [
    "min_sales = np.min(sales_data[:,1:],axis=1)"
   ]
  },
  {
   "cell_type": "code",
   "execution_count": 114,
   "id": "fc8fd5e6-e7cc-473c-861f-60b8f3342873",
   "metadata": {},
   "outputs": [
    {
     "data": {
      "text/plain": [
       "array([150000, 120000, 200000, 180000, 160000])"
      ]
     },
     "execution_count": 114,
     "metadata": {},
     "output_type": "execute_result"
    }
   ],
   "source": [
    "min_sales"
   ]
  },
  {
   "cell_type": "code",
   "execution_count": 115,
   "id": "62a5a796-69dc-4d19-9eff-7a7ae169fe14",
   "metadata": {},
   "outputs": [],
   "source": [
    "# max sales per year \n"
   ]
  },
  {
   "cell_type": "code",
   "execution_count": 117,
   "id": "b4963b35-0a70-49ae-9740-8817f156f4b2",
   "metadata": {},
   "outputs": [],
   "source": [
    "max_sales = np.max(sales_data[:,1:],axis = 0)"
   ]
  },
  {
   "cell_type": "code",
   "execution_count": 118,
   "id": "9ca3b947-9873-4817-9de4-e9b526023324",
   "metadata": {},
   "outputs": [
    {
     "data": {
      "text/plain": [
       "array([200000, 230000, 260000, 300000])"
      ]
     },
     "execution_count": 118,
     "metadata": {},
     "output_type": "execute_result"
    }
   ],
   "source": [
    "max_sales"
   ]
  },
  {
   "cell_type": "code",
   "execution_count": 119,
   "id": "7da4fdd1-8a24-48f7-a76e-d61cee8fabfe",
   "metadata": {},
   "outputs": [],
   "source": [
    "# Avg sales per year "
   ]
  },
  {
   "cell_type": "code",
   "execution_count": 120,
   "id": "f1e3389a-5e86-4e46-b8c3-8f04b1137d13",
   "metadata": {},
   "outputs": [],
   "source": [
    "avg_sales = np.mean(sales_data[:,1:],axis = 0)"
   ]
  },
  {
   "cell_type": "code",
   "execution_count": 121,
   "id": "4d3fbe75-09db-4776-bed2-8ac0f650f62f",
   "metadata": {},
   "outputs": [
    {
     "data": {
      "text/plain": [
       "array([162000., 189000., 217000., 248000.])"
      ]
     },
     "execution_count": 121,
     "metadata": {},
     "output_type": "execute_result"
    }
   ],
   "source": [
    "avg_sales"
   ]
  },
  {
   "cell_type": "code",
   "execution_count": null,
   "id": "0df76c85-9aaf-4b8e-a930-3f99938580e4",
   "metadata": {},
   "outputs": [],
   "source": []
  }
 ],
 "metadata": {
  "kernelspec": {
   "display_name": "Python 3 (ipykernel)",
   "language": "python",
   "name": "python3"
  },
  "language_info": {
   "codemirror_mode": {
    "name": "ipython",
    "version": 3
   },
   "file_extension": ".py",
   "mimetype": "text/x-python",
   "name": "python",
   "nbconvert_exporter": "python",
   "pygments_lexer": "ipython3",
   "version": "3.11.9"
  }
 },
 "nbformat": 4,
 "nbformat_minor": 5
}
