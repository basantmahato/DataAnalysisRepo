{
 "cells": [
  {
   "cell_type": "code",
   "execution_count": null,
   "id": "7e5a403a-6853-4ea1-ad56-4b65bb735b6a",
   "metadata": {},
   "outputs": [],
   "source": [
    "text = (input(\"Enter a string\"))\n",
    "\n",
    "vowels = \"aeiouAEIOU\"\n",
    "\n",
    "count = 0\n",
    "\n",
    "for i in text:\n",
    "    if i in vowels:\n",
    "        count = count +1\n",
    "        print(count)"
   ]
  },
  {
   "cell_type": "code",
   "execution_count": null,
   "id": "179a13d9-d1f3-4f66-ae74-1a04e2234a74",
   "metadata": {},
   "outputs": [],
   "source": []
  }
 ],
 "metadata": {
  "kernelspec": {
   "display_name": "Python 3 (ipykernel)",
   "language": "python",
   "name": "python3"
  },
  "language_info": {
   "codemirror_mode": {
    "name": "ipython",
    "version": 3
   },
   "file_extension": ".py",
   "mimetype": "text/x-python",
   "name": "python",
   "nbconvert_exporter": "python",
   "pygments_lexer": "ipython3",
   "version": "3.11.9"
  }
 },
 "nbformat": 4,
 "nbformat_minor": 5
}
