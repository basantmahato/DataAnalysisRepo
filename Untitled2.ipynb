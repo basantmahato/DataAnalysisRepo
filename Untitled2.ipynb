{
 "cells": [
  {
   "cell_type": "code",
   "execution_count": 1,
   "id": "2c67c439-9911-4bca-8b0b-54378cf173a3",
   "metadata": {},
   "outputs": [
    {
     "name": "stdout",
     "output_type": "stream",
     "text": [
      "'login'\n"
     ]
    }
   ],
   "source": [
    "import requests\n",
    "\n",
    "def fetch_user_random():\n",
    "    url= \"https://api.freeapi.app/api/v1/public/randomusers?page=1&limit=10\"\n",
    "    response = requests.get(url)\n",
    "    data = response.json()\n",
    "\n",
    "    if data [\"success\"] and \"data\" in data:\n",
    "        user_data = data[\"data\"]\n",
    "        username = user_data[\"login\"][\"username\"]\n",
    "        country = user_data[\"location\"][\"country\"]\n",
    "        return  username , country \n",
    "    else:\n",
    "        raise Exception (\"failed to fetch data\")\n",
    "    \n",
    "def main():\n",
    "    try:\n",
    "        username, country = fetch_user_random()\n",
    "        print(f\"username:{username} \\ncountry: {country}\")\n",
    "\n",
    "    except Exception as e:\n",
    "        print(str(e))\n",
    "\n",
    "if __name__ == \"__main__\":\n",
    "    main()      \n",
    "\n",
    "\n",
    "    \n"
   ]
  },
  {
   "cell_type": "code",
   "execution_count": null,
   "id": "163f9041-1a7e-45e7-af96-31fa28e3bb7a",
   "metadata": {},
   "outputs": [],
   "source": []
  }
 ],
 "metadata": {
  "kernelspec": {
   "display_name": "Python 3 (ipykernel)",
   "language": "python",
   "name": "python3"
  },
  "language_info": {
   "codemirror_mode": {
    "name": "ipython",
    "version": 3
   },
   "file_extension": ".py",
   "mimetype": "text/x-python",
   "name": "python",
   "nbconvert_exporter": "python",
   "pygments_lexer": "ipython3",
   "version": "3.11.9"
  }
 },
 "nbformat": 4,
 "nbformat_minor": 5
}
