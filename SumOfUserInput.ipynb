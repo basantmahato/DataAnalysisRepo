{
 "cells": [
  {
   "cell_type": "code",
   "execution_count": 3,
   "id": "49e7a786-a9a4-4935-a504-21d4d35329f7",
   "metadata": {},
   "outputs": [
    {
     "name": "stdin",
     "output_type": "stream",
     "text": [
      "Enter a Number 258\n"
     ]
    },
    {
     "name": "stdout",
     "output_type": "stream",
     "text": [
      "original value 258\n",
      "sum of numbers 15\n"
     ]
    }
   ],
   "source": [
    "n = int(input(\"Enter a Number\"))\n",
    "\n",
    "original = n\n",
    "sumofn = 0\n",
    "\n",
    "\n",
    "while n > 0:\n",
    "    digit = n %10\n",
    "    sumofn += digit\n",
    "    n = n //10\n",
    "\n",
    "print(\"original value\",original)\n",
    "print(\"sum of numbers\",sumofn)"
   ]
  },
  {
   "cell_type": "code",
   "execution_count": null,
   "id": "93d7b6cf-2d6d-40fd-9654-f10daa75ebe3",
   "metadata": {},
   "outputs": [],
   "source": []
  }
 ],
 "metadata": {
  "kernelspec": {
   "display_name": "Python 3 (ipykernel)",
   "language": "python",
   "name": "python3"
  },
  "language_info": {
   "codemirror_mode": {
    "name": "ipython",
    "version": 3
   },
   "file_extension": ".py",
   "mimetype": "text/x-python",
   "name": "python",
   "nbconvert_exporter": "python",
   "pygments_lexer": "ipython3",
   "version": "3.11.9"
  }
 },
 "nbformat": 4,
 "nbformat_minor": 5
}
