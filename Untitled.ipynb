{
 "cells": [
  {
   "cell_type": "code",
   "execution_count": 8,
   "id": "e42007f6-cbcc-432c-bffd-3e0804578a84",
   "metadata": {},
   "outputs": [
    {
     "name": "stdin",
     "output_type": "stream",
     "text": [
      "Enter Marks:  15\n"
     ]
    },
    {
     "ename": "NameError",
     "evalue": "name 'fullmarks' is not defined",
     "output_type": "error",
     "traceback": [
      "\u001b[31m---------------------------------------------------------------------------\u001b[39m",
      "\u001b[31mNameError\u001b[39m                                 Traceback (most recent call last)",
      "\u001b[36mCell\u001b[39m\u001b[36m \u001b[39m\u001b[32mIn[8]\u001b[39m\u001b[32m, line 7\u001b[39m\n\u001b[32m      4\u001b[39m     mark = \u001b[38;5;28mint\u001b[39m(\u001b[38;5;28minput\u001b[39m(\u001b[33m\"\u001b[39m\u001b[33mEnter Marks: \u001b[39m\u001b[33m\"\u001b[39m))  \n\u001b[32m      5\u001b[39m     marks.append(mark) \n\u001b[32m----> \u001b[39m\u001b[32m7\u001b[39m     \u001b[43mfullmarks\u001b[49m+=mark\n\u001b[32m     11\u001b[39m \u001b[38;5;28mprint\u001b[39m(marks)\n\u001b[32m     12\u001b[39m \u001b[38;5;28mprint\u001b[39m(fullmarks)\n",
      "\u001b[31mNameError\u001b[39m: name 'fullmarks' is not defined"
     ]
    }
   ],
   "source": [
    "n = 5\n",
    "marks = []\n",
    "for i in range(n):\n",
    "    mark = int(input(\"Enter Marks: \"))  \n",
    "    marks.append(mark) \n",
    "\n",
    "for i in range(n):\n",
    "    mark = int(input(\"Enter Marks: \"))  \n",
    "    marks.append(mark) \n",
    "\n",
    "\n",
    "\n",
    "\n",
    "print(marks)\n",
    "print(fullmarks)"
   ]
  },
  {
   "cell_type": "code",
   "execution_count": null,
   "id": "9d0a6835-ce97-4ded-96d5-75708969e335",
   "metadata": {},
   "outputs": [],
   "source": []
  }
 ],
 "metadata": {
  "kernelspec": {
   "display_name": "Python 3 (ipykernel)",
   "language": "python",
   "name": "python3"
  },
  "language_info": {
   "codemirror_mode": {
    "name": "ipython",
    "version": 3
   },
   "file_extension": ".py",
   "mimetype": "text/x-python",
   "name": "python",
   "nbconvert_exporter": "python",
   "pygments_lexer": "ipython3",
   "version": "3.11.9"
  }
 },
 "nbformat": 4,
 "nbformat_minor": 5
}
