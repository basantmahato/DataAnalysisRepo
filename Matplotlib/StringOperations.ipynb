{
 "cells": [
  {
   "cell_type": "code",
   "execution_count": 26,
   "id": "756dc958-98e3-4624-a407-3538b8973b6a",
   "metadata": {},
   "outputs": [
    {
     "name": "stdin",
     "output_type": "stream",
     "text": [
      "Enter a string hjhjdsjksa56565\n"
     ]
    },
    {
     "name": "stdout",
     "output_type": "stream",
     "text": [
      "HJHJDSJKSA56565\n",
      "False\n"
     ]
    }
   ],
   "source": [
    "text = (input(\"Enter a string\"))\n",
    "up = str.upper(text)\n",
    "print(up)\n"
   ]
  },
  {
   "cell_type": "code",
   "execution_count": 23,
   "id": "b666ab13-9a01-49e9-8010-e9779fa93ccd",
   "metadata": {},
   "outputs": [
    {
     "name": "stdin",
     "output_type": "stream",
     "text": [
      "Enter a string asgsga jasUUIUIUIU\n"
     ]
    },
    {
     "name": "stdout",
     "output_type": "stream",
     "text": [
      "vowels are greater\n"
     ]
    }
   ],
   "source": [
    "text = (input(\"Enter a string\"))\n",
    "vowels = \"aeiouAEIOU\"\n",
    "lengthoftext= len(text)\n",
    "\n",
    "count = 0\n",
    "con = 0\n",
    "\n",
    "for i in text:\n",
    "    if i in vowels:\n",
    "        count = count +1\n",
    "\n",
    "con = lengthoftext - count\n",
    "\n",
    "if con == count:\n",
    "    print(\"both are Equal\")\n",
    "elif con < count:\n",
    "    print (\"vowels are greater\")\n",
    "else:\n",
    "    print(\"cons are greater\")    "
   ]
  },
  {
   "cell_type": "code",
   "execution_count": 25,
   "id": "6760fd24-8997-4427-a03e-4f8fca96249e",
   "metadata": {},
   "outputs": [
    {
     "name": "stdin",
     "output_type": "stream",
     "text": [
      "Enter a string hhhiiishhsa\n"
     ]
    },
    {
     "name": "stdout",
     "output_type": "stream",
     "text": [
      "i\n",
      "i\n",
      "i\n",
      "a\n"
     ]
    }
   ],
   "source": [
    "text = (input(\"Enter a string\"))\n",
    "\n",
    "vowels = \"aeiouAEIOU\"\n",
    "\n",
    "for char in text:\n",
    "    if char.lower() in vowels:\n",
    "        print(char)\n"
   ]
  },
  {
   "cell_type": "code",
   "execution_count": 29,
   "id": "c7857a85-6e12-46ed-ae82-3047cf1d6fed",
   "metadata": {},
   "outputs": [
    {
     "name": "stdin",
     "output_type": "stream",
     "text": [
      "Enter a string egg\n"
     ]
    },
    {
     "name": "stdout",
     "output_type": "stream",
     "text": [
      "e\n"
     ]
    }
   ],
   "source": [
    "text = (input(\"Enter a string\"))\n",
    "\n",
    "vowels = \"aeiouAEIOU\"\n",
    "\n",
    "for i in range(1):\n",
    "    if text[0] in vowels:\n",
    "        print(text[0])"
   ]
  },
  {
   "cell_type": "code",
   "execution_count": 33,
   "id": "f871bc80-dcf2-405c-ac4f-d86b234d1a23",
   "metadata": {},
   "outputs": [
    {
     "name": "stdin",
     "output_type": "stream",
     "text": [
      "Enter a string iiii777\n"
     ]
    },
    {
     "name": "stdout",
     "output_type": "stream",
     "text": [
      "4\n",
      "3\n"
     ]
    }
   ],
   "source": [
    "text = (input(\"Enter a string\"))\n",
    "vowels = \"aeiouAEIOU\"\n",
    "digit =\"0123456789\"\n",
    "specialC=()\n",
    "lengthoftext= len(text)\n",
    "\n",
    "vowelsc=0\n",
    "count = 0\n",
    "digitc =0\n",
    "for i in text:\n",
    "    if i in vowels:\n",
    "        count = count +1\n",
    "for i in text:\n",
    "    if i in digit:\n",
    "        digitc = digitc +1\n",
    "\n",
    "print(count)\n",
    "print(digitc)"
   ]
  },
  {
   "cell_type": "code",
   "execution_count": null,
   "id": "40a30dc4-ce19-46b7-a7e1-ecbfbe8b1cd6",
   "metadata": {},
   "outputs": [],
   "source": [
    "#2nd method\n",
    "\n",
    "\n",
    "\n",
    "input_string = input(\"Enter a string: \")\n",
    "\n",
    "digits = 0\n",
    "vowels = 0\n",
    "consonants = 0\n",
    "special_chars = 0\n",
    "\n",
    "\n",
    "vowel_set = set(\"aeiouAEIOU\")\n",
    "\n",
    "\n",
    "for char in input_string:\n",
    "    if char.isdigit():\n",
    "        digits += 1\n",
    "    elif char.isalpha():\n",
    "        if char in vowel_set:\n",
    "            vowels += 1\n",
    "        else:\n",
    "            consonants += 1\n",
    "    elif not char.isspace():  \n",
    "        special_chars += 1\n",
    "\n",
    "\n",
    "print(\"Digits:\", digits)\n",
    "print(\"Vowels:\", vowels)\n",
    "print(\"Consonants:\", consonants)\n",
    "print(\"Special characters:\", special_chars)\n"
   ]
  }
 ],
 "metadata": {
  "kernelspec": {
   "display_name": "Python [conda env:base] *",
   "language": "python",
   "name": "conda-base-py"
  },
  "language_info": {
   "codemirror_mode": {
    "name": "ipython",
    "version": 3
   },
   "file_extension": ".py",
   "mimetype": "text/x-python",
   "name": "python",
   "nbconvert_exporter": "python",
   "pygments_lexer": "ipython3",
   "version": "3.12.7"
  }
 },
 "nbformat": 4,
 "nbformat_minor": 5
}
